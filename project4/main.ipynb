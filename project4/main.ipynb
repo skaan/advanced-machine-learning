{
 "cells": [
  {
   "cell_type": "markdown",
   "metadata": {},
   "source": [
    "# Project 4"
   ]
  },
  {
   "cell_type": "markdown",
   "metadata": {},
   "source": [
    "### Dependencies and Constants"
   ]
  },
  {
   "cell_type": "code",
   "execution_count": 205,
   "metadata": {},
   "outputs": [],
   "source": [
    "import time\n",
    "import numpy as np\n",
    "from numpy.fft import fft  # to get amplitudes\n",
    "import pandas as pd\n",
    "import scipy.signal as ss  # for psd\n",
    "import matplotlib.pyplot as plt\n",
    "from sklearn.svm import SVC\n",
    "from sklearn.metrics import balanced_accuracy_score\n",
    "from sklearn.preprocessing import StandardScaler\n",
    "from sklearn.model_selection import train_test_split, GridSearchCV, StratifiedShuffleSplit\n",
    "from sklearn.ensemble import BaggingClassifier, RandomForestClassifier, ExtraTreesClassifier\n",
    "from biosppy.signals import eeg  # signal processing\n",
    "from biosppy.signals import emg  # signal processing\n",
    "from spectrum import arburg\n",
    "import keras\n",
    "from keras.models import Sequential\n",
    "from keras.layers import Dense, Dropout, BatchNormalization\n",
    "\n",
    "\n",
    "PROTOTYPING = False"
   ]
  },
  {
   "cell_type": "markdown",
   "metadata": {},
   "source": [
    "### Read data"
   ]
  },
  {
   "cell_type": "code",
   "execution_count": 5,
   "metadata": {},
   "outputs": [
    {
     "name": "stdout",
     "output_type": "stream",
     "text": [
      "(64800, 512) (64800, 512) (64800, 512)\n",
      "(43200, 512) (43200, 512) (43200, 512)\n",
      "(64800, 1)\n",
      "(64800, 55) (43200, 55)\n",
      "Time:  30.928338766098022\n"
     ]
    }
   ],
   "source": [
    "start = time.time()\n",
    "\n",
    "# import train sets\n",
    "train_eeg1_raw = pd.read_csv('files/train_eeg1.csv').drop('Id', axis=1).values\n",
    "train_eeg2_raw = pd.read_csv('files/train_eeg2.csv').drop('Id', axis=1).values\n",
    "train_emg_raw = pd.read_csv('files/train_emg.csv').drop('Id', axis=1).values\n",
    "\n",
    "# import test sets\n",
    "test_eeg1_raw = pd.read_csv('files/test_eeg1.csv').drop('Id', axis=1).values\n",
    "test_eeg2_raw = pd.read_csv('files/test_eeg2.csv').drop('Id', axis=1).values\n",
    "test_emg_raw = pd.read_csv('files/test_emg.csv').drop('Id', axis=1).values\n",
    "\n",
    "# import eeg features directly\n",
    "eeg_train = pd.read_csv('files/eeg_feats_train.csv').values\n",
    "eeg_test  = pd.read_csv('files/eeg_feats_test.csv').values\n",
    "\n",
    "# import reduced eeg features by pca (to 45 components - already scaled)\n",
    "eeg_train_red = pd.read_csv('files/eeg_train_pca45.csv').values\n",
    "eeg_test_red  = pd.read_csv('files/eeg_test_pca45.csv').values\n",
    "\n",
    "# import labels\n",
    "train_labels_raw = pd.read_csv('files/train_labels.csv').drop('Id', axis=1).values\n",
    "\n",
    "print(train_eeg1_raw.shape, train_eeg2_raw.shape, train_emg_raw.shape)\n",
    "print(test_eeg1_raw.shape, test_eeg2_raw.shape, test_emg_raw.shape)\n",
    "print(train_labels_raw.shape)\n",
    "print(eeg_train.shape, eeg_test.shape)\n",
    "\n",
    "print(\"Time: \", time.time() - start)"
   ]
  },
  {
   "cell_type": "markdown",
   "metadata": {},
   "source": [
    "### Feature extraction for EEG signals"
   ]
  },
  {
   "cell_type": "code",
   "execution_count": 3,
   "metadata": {
    "collapsed": true
   },
   "outputs": [
    {
     "name": "stdout",
     "output_type": "stream",
     "text": [
      "0 / 64800\n",
      "1000 / 64800\n",
      "2000 / 64800\n",
      "3000 / 64800\n",
      "4000 / 64800\n",
      "5000 / 64800\n",
      "6000 / 64800\n",
      "7000 / 64800\n",
      "8000 / 64800\n",
      "9000 / 64800\n",
      "10000 / 64800\n",
      "11000 / 64800\n",
      "12000 / 64800\n",
      "13000 / 64800\n",
      "14000 / 64800\n",
      "15000 / 64800\n",
      "16000 / 64800\n",
      "17000 / 64800\n",
      "18000 / 64800\n",
      "19000 / 64800\n",
      "20000 / 64800\n",
      "21000 / 64800\n",
      "22000 / 64800\n",
      "23000 / 64800\n",
      "24000 / 64800\n",
      "25000 / 64800\n",
      "26000 / 64800\n",
      "27000 / 64800\n",
      "28000 / 64800\n",
      "29000 / 64800\n",
      "30000 / 64800\n",
      "31000 / 64800\n",
      "32000 / 64800\n",
      "33000 / 64800\n",
      "34000 / 64800\n",
      "35000 / 64800\n",
      "36000 / 64800\n",
      "37000 / 64800\n",
      "38000 / 64800\n",
      "39000 / 64800\n",
      "40000 / 64800\n",
      "41000 / 64800\n",
      "42000 / 64800\n",
      "43000 / 64800\n",
      "44000 / 64800\n",
      "45000 / 64800\n",
      "46000 / 64800\n",
      "47000 / 64800\n",
      "48000 / 64800\n",
      "49000 / 64800\n",
      "50000 / 64800\n",
      "51000 / 64800\n",
      "52000 / 64800\n",
      "53000 / 64800\n",
      "54000 / 64800\n",
      "55000 / 64800\n",
      "56000 / 64800\n",
      "57000 / 64800\n",
      "58000 / 64800\n",
      "59000 / 64800\n",
      "60000 / 64800\n",
      "61000 / 64800\n",
      "62000 / 64800\n",
      "63000 / 64800\n",
      "64000 / 64800\n",
      "0 / 43200\n",
      "1000 / 43200\n",
      "2000 / 43200\n",
      "3000 / 43200\n",
      "4000 / 43200\n",
      "5000 / 43200\n",
      "6000 / 43200\n",
      "7000 / 43200\n",
      "8000 / 43200\n",
      "9000 / 43200\n",
      "10000 / 43200\n",
      "11000 / 43200\n",
      "12000 / 43200\n",
      "13000 / 43200\n",
      "14000 / 43200\n",
      "15000 / 43200\n",
      "16000 / 43200\n",
      "17000 / 43200\n",
      "18000 / 43200\n",
      "19000 / 43200\n",
      "20000 / 43200\n",
      "21000 / 43200\n",
      "22000 / 43200\n",
      "23000 / 43200\n",
      "24000 / 43200\n",
      "25000 / 43200\n",
      "26000 / 43200\n",
      "27000 / 43200\n",
      "28000 / 43200\n",
      "29000 / 43200\n",
      "30000 / 43200\n",
      "31000 / 43200\n",
      "32000 / 43200\n",
      "33000 / 43200\n",
      "34000 / 43200\n",
      "35000 / 43200\n",
      "36000 / 43200\n",
      "37000 / 43200\n",
      "38000 / 43200\n",
      "39000 / 43200\n",
      "40000 / 43200\n",
      "41000 / 43200\n",
      "42000 / 43200\n",
      "43000 / 43200\n"
     ]
    },
    {
     "ename": "AttributeError",
     "evalue": "'numpy.ndarray' object has no attribute 'to_frame'",
     "output_type": "error",
     "traceback": [
      "\u001b[1;31m---------------------------------------------------------------------------\u001b[0m",
      "\u001b[1;31mAttributeError\u001b[0m                            Traceback (most recent call last)",
      "\u001b[1;32m<ipython-input-3-2aadf25068c8>\u001b[0m in \u001b[0;36m<module>\u001b[1;34m\u001b[0m\n\u001b[0;32m     72\u001b[0m     \u001b[0mX_test\u001b[0m \u001b[1;33m=\u001b[0m \u001b[0mextract_features\u001b[0m\u001b[1;33m(\u001b[0m\u001b[0mtest_eeg1_raw\u001b[0m\u001b[1;33m,\u001b[0m \u001b[0mtest_eeg2_raw\u001b[0m\u001b[1;33m,\u001b[0m \u001b[0mtest_emg_raw\u001b[0m\u001b[1;33m)\u001b[0m\u001b[1;33m\u001b[0m\u001b[1;33m\u001b[0m\u001b[0m\n\u001b[0;32m     73\u001b[0m     \u001b[1;31m# save features for future imports\u001b[0m\u001b[1;33m\u001b[0m\u001b[1;33m\u001b[0m\u001b[1;33m\u001b[0m\u001b[0m\n\u001b[1;32m---> 74\u001b[1;33m     \u001b[0mpd\u001b[0m\u001b[1;33m.\u001b[0m\u001b[0mDataFrame\u001b[0m\u001b[1;33m.\u001b[0m\u001b[0mto_csv\u001b[0m\u001b[1;33m(\u001b[0m\u001b[0mX_train\u001b[0m\u001b[1;33m,\u001b[0m \u001b[1;34m'files/eeg_feats_train.csv'\u001b[0m\u001b[1;33m)\u001b[0m\u001b[1;33m\u001b[0m\u001b[1;33m\u001b[0m\u001b[0m\n\u001b[0m\u001b[0;32m     75\u001b[0m     \u001b[0mpd\u001b[0m\u001b[1;33m.\u001b[0m\u001b[0mDataFrame\u001b[0m\u001b[1;33m.\u001b[0m\u001b[0mto_csv\u001b[0m\u001b[1;33m(\u001b[0m\u001b[0mX_tests\u001b[0m\u001b[1;33m,\u001b[0m \u001b[1;34m'files/eeg_feats_test.csv'\u001b[0m\u001b[1;33m)\u001b[0m\u001b[1;33m\u001b[0m\u001b[1;33m\u001b[0m\u001b[0m\n\u001b[0;32m     76\u001b[0m     \u001b[0mprint\u001b[0m\u001b[1;33m(\u001b[0m\u001b[1;34m\"X_test\"\u001b[0m\u001b[1;33m,\u001b[0m \u001b[0mX_test\u001b[0m\u001b[1;33m.\u001b[0m\u001b[0mshape\u001b[0m\u001b[1;33m)\u001b[0m\u001b[1;33m\u001b[0m\u001b[1;33m\u001b[0m\u001b[0m\n",
      "\u001b[1;32m~\\Anaconda3\\lib\\site-packages\\pandas\\core\\generic.py\u001b[0m in \u001b[0;36mto_csv\u001b[1;34m(self, path_or_buf, sep, na_rep, float_format, columns, header, index, index_label, mode, encoding, compression, quoting, quotechar, line_terminator, chunksize, date_format, doublequote, escapechar, decimal)\u001b[0m\n\u001b[0;32m   3200\u001b[0m         \"\"\"\n\u001b[0;32m   3201\u001b[0m \u001b[1;33m\u001b[0m\u001b[0m\n\u001b[1;32m-> 3202\u001b[1;33m         \u001b[0mdf\u001b[0m \u001b[1;33m=\u001b[0m \u001b[0mself\u001b[0m \u001b[1;32mif\u001b[0m \u001b[0misinstance\u001b[0m\u001b[1;33m(\u001b[0m\u001b[0mself\u001b[0m\u001b[1;33m,\u001b[0m \u001b[0mABCDataFrame\u001b[0m\u001b[1;33m)\u001b[0m \u001b[1;32melse\u001b[0m \u001b[0mself\u001b[0m\u001b[1;33m.\u001b[0m\u001b[0mto_frame\u001b[0m\u001b[1;33m(\u001b[0m\u001b[1;33m)\u001b[0m\u001b[1;33m\u001b[0m\u001b[1;33m\u001b[0m\u001b[0m\n\u001b[0m\u001b[0;32m   3203\u001b[0m \u001b[1;33m\u001b[0m\u001b[0m\n\u001b[0;32m   3204\u001b[0m         \u001b[1;32mfrom\u001b[0m \u001b[0mpandas\u001b[0m\u001b[1;33m.\u001b[0m\u001b[0mio\u001b[0m\u001b[1;33m.\u001b[0m\u001b[0mformats\u001b[0m\u001b[1;33m.\u001b[0m\u001b[0mcsvs\u001b[0m \u001b[1;32mimport\u001b[0m \u001b[0mCSVFormatter\u001b[0m\u001b[1;33m\u001b[0m\u001b[1;33m\u001b[0m\u001b[0m\n",
      "\u001b[1;31mAttributeError\u001b[0m: 'numpy.ndarray' object has no attribute 'to_frame'"
     ]
    }
   ],
   "source": [
    "start = time.time()\n",
    "\n",
    "def calculate_statistics(list_values):\n",
    "    n5 = np.nanpercentile(list_values, 5)\n",
    "    n25 = np.nanpercentile(list_values, 25)\n",
    "    n75 = np.nanpercentile(list_values, 75)\n",
    "    n95 = np.nanpercentile(list_values, 95)\n",
    "    median = np.nanpercentile(list_values, 50)\n",
    "    mean = np.nanmean(list_values)\n",
    "    std = np.nanstd(list_values)\n",
    "    var = np.nanvar(list_values)\n",
    "    rms = np.nanmean(np.sqrt(list_values**2))\n",
    "    return [n5, n25, n75, n95, median, mean, std, var, rms]\n",
    " \n",
    "def calculate_crossings(list_values):\n",
    "    zero_crossing_indices = np.nonzero(np.diff(np.array(list_values) > 0))[0]\n",
    "    no_zero_crossings = len(zero_crossing_indices)\n",
    "    mean_crossing_indices = np.nonzero(np.diff(np.array(list_values) > np.nanmean(list_values)))[0]\n",
    "    no_mean_crossings = len(mean_crossing_indices)\n",
    "    return [no_zero_crossings, no_mean_crossings]\n",
    " \n",
    "def get_features(list_values):\n",
    "    crossings = calculate_crossings(list_values)\n",
    "    statistics = calculate_statistics(list_values)\n",
    "    return crossings + statistics\n",
    "\n",
    "def extract_features(eeg1, eeg2, emg):\n",
    "    features = None\n",
    "    \n",
    "    for i in range(eeg1.shape[0]):\n",
    "        if i % 1000 == 0:\n",
    "            print(i, \"/\", eeg1.shape[0])\n",
    "        row = np.array([])\n",
    "\n",
    "        signal = np.array([eeg1[i], eeg2[i]]).T\n",
    "        analysis = eeg.eeg(signal=signal, sampling_rate=128, show=False)    \n",
    "\n",
    "        # theta\n",
    "        row = np.append(row, get_features(analysis[\"theta\"]))\n",
    "        # row = np.append(row, get_features(analysis[\"theta\"][:, 1]))\n",
    "\n",
    "        # alpha low\n",
    "        row = np.append(row, get_features(analysis[\"alpha_low\"]))\n",
    "        # row = np.append(row, get_features(analysis[\"alpha_low\"][:, 1]))\n",
    "\n",
    "        # alpha low\n",
    "        row = np.append(row, get_features(analysis[\"alpha_high\"]))\n",
    "        # row = np.append(row, get_features(analysis[\"alpha_high\"][:, 1]))\n",
    "\n",
    "        # beta\n",
    "        row = np.append(row, get_features(analysis[\"beta\"]))\n",
    "        # row = np.append(row, get_features(analysis[\"beta\"][:, 1]))\n",
    "\n",
    "        # gamma\n",
    "        row = np.append(row, get_features(analysis[\"gamma\"][:, 0]))\n",
    "        # row = np.append(row, get_features(analysis[\"gamma\"]))\n",
    "\n",
    "        # format\n",
    "        row = row.reshape((1, -1))\n",
    "\n",
    "        # concatenate\n",
    "        if features is None:\n",
    "            features = row\n",
    "        else:\n",
    "            features = np.concatenate((features, row), axis=0)\n",
    "    return features\n",
    "\n",
    "X_train = extract_features(train_eeg1_raw, train_eeg2_raw, train_emg_raw)\n",
    "\n",
    "\n",
    "if not PROTOTYPING:\n",
    "    X_test = extract_features(test_eeg1_raw, test_eeg2_raw, test_emg_raw)\n",
    "    print(\"X_test\", X_test.shape)\n",
    "print(\"X_train\", X_train.shape)\n",
    "\n",
    "print(\"Time: \", time.time() - start)"
   ]
  },
  {
   "cell_type": "code",
   "execution_count": 6,
   "metadata": {},
   "outputs": [],
   "source": [
    "# save features for future imports\n",
    "pd.DataFrame.to_csv(pd.DataFrame(X_train), 'files/eeg_feats_train.csv', index=False)\n",
    "pd.DataFrame.to_csv(pd.DataFrame(X_test), 'files/eeg_feats_test.csv', index=False)"
   ]
  },
  {
   "cell_type": "code",
   "execution_count": 217,
   "metadata": {},
   "outputs": [],
   "source": [
    "# obtain features by simply doing a FFT on the data\n",
    "# probably more suitable for a neural network approach\n",
    "eeg1_freqs_train = []\n",
    "eeg2_freqs_train = []\n",
    "eeg1_freqs_test  = []\n",
    "eeg2_freqs_test  = []\n",
    "for i in range(train_eeg1_raw.shape[0]):\n",
    "    eeg1_freqs_train.append(np.real(fft(train_eeg1_raw[i])))\n",
    "    eeg2_freqs_train.append(np.real(fft(train_eeg2_raw[i])))\n",
    "    \n",
    "for i in range(test_eeg1_raw.shape[0]):\n",
    "    eeg1_freqs_test.append(np.real(fft(test_eeg1_raw[i])))\n",
    "    eeg2_freqs_test.append(np.real(fft(test_eeg2_raw[i])))"
   ]
  },
  {
   "cell_type": "code",
   "execution_count": 221,
   "metadata": {},
   "outputs": [
    {
     "name": "stdout",
     "output_type": "stream",
     "text": [
      "Time:  4.171844482421875\n"
     ]
    }
   ],
   "source": [
    "# concatenate frequency fetures from fft\n",
    "start = time.time()\n",
    "eeg_freqs_train = np.array(np.column_stack((eeg1_freqs_train, eeg2_freqs_train)))\n",
    "eeg_freqs_test  = np.array(np.column_stack((eeg1_freqs_test, eeg2_freqs_test)))\n",
    "print(\"Time: \", time.time() - start)\n",
    "\n",
    "# save features for future imports\n",
    "pd.DataFrame.to_csv(pd.DataFrame(eeg_freqs_train), 'files/eeg_freqs_train.csv', index=False)\n",
    "pd.DataFrame.to_csv(pd.DataFrame(eeg_freqs_test), 'files/eeg_freqs_test.csv', index=False)"
   ]
  },
  {
   "cell_type": "markdown",
   "metadata": {},
   "source": [
    "### homemade Feature Extraction for EMG signals"
   ]
  },
  {
   "cell_type": "code",
   "execution_count": 6,
   "metadata": {},
   "outputs": [],
   "source": [
    "# even more features: https://ieeexplore.ieee.org/document/7748960\n",
    "# find out if we were provided with some threshold or so (some feats need one)\n",
    "\n",
    "# functions are implemented from this paper:\n",
    "# https://www.researchgate.net/publication/323587464_A_Comprehensive_Study_on_EMG_Feature_Extraction_and_Classifiers\n",
    "# https://www.researchgate.net/publication/224148281_Evaluation_of_EMG_Feature_Extraction_for_Hand_Movement_Recognition_Based_on_Euclidean_Distance_and_Standard_Deviation\n",
    "\n",
    "# Functions for the TIME Domain\n",
    "\n",
    "# integrated EMG is the area under the rectified EMG signal \n",
    "def IEMG(signal):\n",
    "    iemg = np.sum(np.abs(signal))\n",
    "    return iemg\n",
    "\n",
    "# Mean Absolute Value\n",
    "# PRE : Requires rectified signal\n",
    "def MAV(signal, N):\n",
    "    mav = np.sum(np.abs(signal))/N\n",
    "    return mav\n",
    "\n",
    "\n",
    "# Mean Absolute Value Slope  (potentially computationally very expensive)\n",
    "def MAVS(signal, N):\n",
    "    temp = 0\n",
    "    for i in range(signal.shape[0]-1):\n",
    "        temp += np.abs(signal[i+1] - signal[i])\n",
    "    mavs = temp/N\n",
    "    return mavs\n",
    "\n",
    "\n",
    "# modified mean absolute value type 1\n",
    "def MAV1(signal, N):\n",
    "    # interval borders\n",
    "    lower = 0.25 * N\n",
    "    upper = 0.75 * N \n",
    "    temp  = 0\n",
    "    for i in range(signal.shape[0]):\n",
    "        if i >= lower and i <= upper:\n",
    "            temp += 1 * np.abs(signal[i])\n",
    "        else:\n",
    "            temp += 0.5 * np.abs(signal[i])\n",
    "    mav1 = temp/N\n",
    "    return mav1\n",
    "\n",
    "\n",
    "# modified mean absolute value type 2\n",
    "def MAV2(signal, N):\n",
    "    # interval borders\n",
    "    lower = 0.25 * N\n",
    "    upper = 0.75 * N \n",
    "    temp  = 0\n",
    "    for i in range(signal.shape[0]):\n",
    "        if i >= lower and i <= upper:\n",
    "            temp += 1 * np.abs(signal[i])\n",
    "        elif i < lower:\n",
    "            temp += (4*i/N) * np.abs(signal[i])\n",
    "        elif i > upper:\n",
    "            temp += (4*(i-N)/N) * np.abs(signal[i])\n",
    "        \n",
    "    mav2 = temp/N\n",
    "    return mav2\n",
    "\n",
    "\n",
    "# Simple Square Integral (SSI) expresses the energy of the EMG signal\n",
    "# PRE : Requires rectified signal\n",
    "def SSI(signal, N):\n",
    "    ssi = np.sum(np.abs(signal)**2)/N  # should square every value in signal element-wise\n",
    "    return ssi\n",
    "\n",
    "# The variance of EMG signal\n",
    "# PRE : Requires rectified signal\n",
    "def VAREMG(signal, N):\n",
    "    varemg = np.sum(signal**2)/(N-1)  # should square every value in signal element-wise\n",
    "    return varemg\n",
    "\n",
    "# Root Mean Square\n",
    "# PRE : Requires rectified signal\n",
    "def RMS(signal, N):\n",
    "    rms = np.sqrt(np.sum(np.abs(signal)**2)/N)  # should square every value in signal element-wise\n",
    "    return rms\n",
    "\n",
    "# the 3rd temporal moment\n",
    "def TM3(signal, N):\n",
    "    tm3 = np.sum(np.abs(signal**3))/N\n",
    "    return tm3\n",
    "\n",
    "# the 4th temporal moment\n",
    "def TM4(signal, N):\n",
    "    tm4 = np.sum(np.abs(signal**4))/N\n",
    "    return tm4\n",
    "\n",
    "# the 5th temporal moment\n",
    "def TM5(signal, N):\n",
    "    tm5 = np.sum(np.abs(signal**5))/N\n",
    "    return tm5\n",
    "\n",
    "# Waveform Length\n",
    "def WL(signal, N):\n",
    "    wl = 0\n",
    "    temp = 0\n",
    "    for j in range(signal.shape[0]-1):\n",
    "        temp = np.abs(signal[j+1] - signal[j])\n",
    "        wl += temp\n",
    "    return wl\n",
    "\n",
    "\n",
    "# TODO : find a suitable threshold (maybe 0) => visual inspection required\n",
    "def AAC(signal, N):\n",
    "    pass\n",
    "\n",
    "def DASDV(signal, N):\n",
    "    pass\n",
    "\n",
    "def ZC(signal, N):\n",
    "    pass\n",
    "\n",
    "def SSC(signal, N):\n",
    "    pass\n"
   ]
  },
  {
   "cell_type": "code",
   "execution_count": 9,
   "metadata": {},
   "outputs": [],
   "source": [
    "# IMPROVEMENT : Wavelet-Analysis for FExtr.:\n",
    "# https://www.researchgate.net/publication/51997893_Techniques_for_Feature_Extraction_from_EMG_Signal\n",
    "# Functions for the FREQUENCY Domain\n",
    "\n",
    "# frequency median : requires the power spectrum density\n",
    "def FMD(psd):\n",
    "    fmd = 0.5 * np.sum(psd)\n",
    "    return fmd\n",
    "\n",
    "# frequency mean : requires psd, freqs and frequency median for faster computation\n",
    "def FMN(psd, freqs, fmd):\n",
    "    fmd = fmd * 2  # simply sum of all psd elements\n",
    "    fmn = np.sum(np.multiply(psd, freqs))/fmd\n",
    "    return fmn\n",
    "\n",
    "# same as FMD(), but based on amplitudes\n",
    "def MMFD(amplitudes):\n",
    "    mmfd = 0.5 * np.sum(amplitudes)\n",
    "    return mmfd\n",
    "\n",
    "# same as FMD(), but based on amplitudes\n",
    "def MMNF(signal, amplitudes, mmfd):\n",
    "    freqs = np.fft.fftfreq(amplitudes.size)  # freqs based on fourier transform\n",
    "    mmnf = np.sum(np.multiply(amplitudes, freqs))/mmfd\n",
    "    return mmnf\n",
    "    \n",
    "\n",
    "# estimate the AR coefficients of k-th order (k=6 based on literature research)\n",
    "def AR(signal, order=6):\n",
    "    ar, _, _ = arburg(signal, order)  # only save AR coefs\n",
    "    return ar\n",
    "\n",
    "# Wavelets analysis\n",
    "# import pywt\n"
   ]
  },
  {
   "cell_type": "code",
   "execution_count": 176,
   "metadata": {},
   "outputs": [],
   "source": [
    "# PRE : raw emg signal\n",
    "# POST: returns the extracted features\n",
    "def extract_features_emg(data):\n",
    "    N = data.shape[0]\n",
    "    #onsets_list = []  # save onsets of EMG signals\n",
    "    #filtered_list = []\n",
    "    # generate more features\n",
    "    mav_list = []\n",
    "    ssi_list = []\n",
    "    vemg_list= []\n",
    "    rms_list = []\n",
    "    wl_list  = []\n",
    "    iemg_list= []\n",
    "    mavs_list= []\n",
    "    mav1_list= []\n",
    "    mav2_list= []\n",
    "    tm3_list = []\n",
    "    tm4_list = []\n",
    "    tm5_list = []\n",
    "    fmd_list = []\n",
    "    fmn_list = []\n",
    "    mmfd_list= []\n",
    "    mmnf_list= []\n",
    "    ar_list  = []\n",
    "\n",
    "    start = time.time()\n",
    "    for i in range(data.shape[0]):\n",
    "        _, filt_emg, _ = emg.emg(signal=data[i].T, sampling_rate=512, show=False)  # obtain only filtered signal\n",
    "        freqs, psd = ss.welch(data[i], fs=512)  # get the PSD of the signal for the frequencies and amplitudes\n",
    "        amplitudes = np.abs(fft(data[i]))\n",
    "        #filtered_list.append(filt_emg)\n",
    "        #onsets_list.append(onsets_emg)\n",
    "        # compute features\n",
    "        mav_list.append(MAV(filt_emg, N))\n",
    "        ssi_list.append(SSI(filt_emg, N))\n",
    "        vemg_list.append(VAREMG(filt_emg, N))\n",
    "        rms_list.append(RMS(filt_emg, N))\n",
    "        wl_list.append(WL(filt_emg, N))\n",
    "        iemg_list.append(IEMG(filt_emg))\n",
    "        mavs_list.append(MAVS(filt_emg, N))\n",
    "        mav1_list.append(MAV1(filt_emg, N))\n",
    "        mav2_list.append(MAV2(filt_emg, N))\n",
    "        tm3_list.append(TM3(filt_emg, N))\n",
    "        tm4_list.append(TM4(filt_emg, N))\n",
    "        tm5_list.append(TM5(filt_emg, N))\n",
    "        fmd_res = FMD(psd)\n",
    "        fmd_list.append(fmd_res)\n",
    "        fmn_list.append(FMN(psd, freqs, fmd_res))\n",
    "        mmfd_res = MMFD(amplitudes)\n",
    "        mmfd_list.append(mmfd_res)\n",
    "        mmnf_list.append(MMNF(data[i], amplitudes, mmfd_res))\n",
    "        ar_list.append(AR(filt_emg))\n",
    "\n",
    "    print(\"Time: \", time.time() - start)\n",
    "    emg_features = [mav_list,ssi_list,vemg_list,rms_list,wl_list,iemg_list,mavs_list,mav1_list,mav2_list,\n",
    "                    tm3_list,tm4_list,tm5_list,fmd_list,fmn_list,mmfd_list,mmnf_list,ar_list]\n",
    "    \n",
    "    return emg_features"
   ]
  },
  {
   "cell_type": "code",
   "execution_count": 177,
   "metadata": {},
   "outputs": [
    {
     "name": "stdout",
     "output_type": "stream",
     "text": [
      "Time:  1361.9812316894531\n",
      "Time:  859.1871929168701\n"
     ]
    }
   ],
   "source": [
    "# get emg features for X_train and X_test\n",
    "emg_feats_train = extract_features_emg(train_emg_raw)\n",
    "emg_feats_test  = extract_features_emg(test_emg_raw)"
   ]
  },
  {
   "cell_type": "code",
   "execution_count": 185,
   "metadata": {},
   "outputs": [],
   "source": [
    "# extract the coefs and save them in separate lists\n",
    "def extract_ar_coefs(features):\n",
    "    ar_feats_0 = []\n",
    "    ar_feats_1 = []\n",
    "    ar_feats_2 = []\n",
    "    ar_feats_3 = []\n",
    "    ar_feats_4 = []\n",
    "    ar_feats_5 = []\n",
    "    # 17th idx is where the AR coefs list is in\n",
    "    # we only care for the real part. the complex part is 0j anyway\n",
    "    for i in range(len(features[16])):\n",
    "        ar_feats_0.append(np.real(features[16][i][0]))\n",
    "        ar_feats_1.append(np.real(features[16][i][1]))\n",
    "        ar_feats_2.append(np.real(features[16][i][2]))\n",
    "        ar_feats_3.append(np.real(features[16][i][3]))\n",
    "        ar_feats_4.append(np.real(features[16][i][4]))\n",
    "        ar_feats_5.append(np.real(features[16][i][5]))\n",
    "    \n",
    "    return ar_feats_0, ar_feats_1, ar_feats_2, ar_feats_3, ar_feats_4, ar_feats_5\n"
   ]
  },
  {
   "cell_type": "code",
   "execution_count": 186,
   "metadata": {},
   "outputs": [
    {
     "name": "stdout",
     "output_type": "stream",
     "text": [
      "Time:  1.307163953781128\n"
     ]
    }
   ],
   "source": [
    "# remove the AR features list and substitute them with the individual data lists\n",
    "# else, scaling will not work properly\n",
    "start = time.time()\n",
    "ar_feats_0, ar_feats_1, ar_feats_2, ar_feats_3, ar_feats_4, ar_feats_5 = extract_ar_coefs(emg_feats_train)\n",
    "emg_feats_train_mod = np.column_stack((np.transpose(emg_feats_train[0:16]),ar_feats_0,ar_feats_1,ar_feats_2,\n",
    "                                       ar_feats_3,ar_feats_4,ar_feats_5))\n",
    "\n",
    "ar_feats_0, ar_feats_1, ar_feats_2, ar_feats_3, ar_feats_4, ar_feats_5 = extract_ar_coefs(emg_feats_test)\n",
    "emg_feats_test_mod  = np.column_stack((np.transpose(emg_feats_test[0:16]),ar_feats_0,ar_feats_1,ar_feats_2,\n",
    "                                      ar_feats_3,ar_feats_4,ar_feats_5))\n",
    "print(\"Time: \", time.time() - start)"
   ]
  },
  {
   "cell_type": "code",
   "execution_count": 189,
   "metadata": {},
   "outputs": [],
   "source": [
    "# save emg features for future imports\n",
    "pd.DataFrame.to_csv(pd.DataFrame(emg_feats_train), 'files/emg_feats_train.csv', index=False)\n",
    "pd.DataFrame.to_csv(pd.DataFrame(emg_feats_test), 'files/emg_feats_test.csv', index=False)"
   ]
  },
  {
   "cell_type": "code",
   "execution_count": 197,
   "metadata": {},
   "outputs": [],
   "source": [
    "# create full train and testsets\n",
    "X_train_ = np.array(np.column_stack((eeg_train, emg_feats_train_mod)))\n",
    "X_test_  = np.array(np.column_stack((eeg_test, emg_feats_test_mod)))"
   ]
  },
  {
   "cell_type": "markdown",
   "metadata": {},
   "source": [
    "### Splitting"
   ]
  },
  {
   "cell_type": "code",
   "execution_count": 198,
   "metadata": {},
   "outputs": [
    {
     "name": "stdout",
     "output_type": "stream",
     "text": [
      "(64800, 77) (64800, 1)\n",
      "Time:  0.0\n"
     ]
    }
   ],
   "source": [
    "start = time.time()\n",
    "\n",
    "def split(X_train, y_train):\n",
    "    return train_test_split(\n",
    "            X_train, \n",
    "            y_train, \n",
    "            test_size=0.1, \n",
    "            shuffle=False, \n",
    "            random_state=0)\n",
    "\n",
    "print(X_train_.shape, train_labels_raw.shape)\n",
    "if PROTOTYPING:\n",
    "    X_train, X_test, y_train, y_test = split(X_train, train_labels_raw)\n",
    "    print(X_train.shape, y_train.shape, X_test.shape, y_test.shape)\n",
    "else:\n",
    "    y_train = train_labels_raw\n",
    "    \n",
    "    \n",
    "print(\"Time: \", time.time() - start)"
   ]
  },
  {
   "cell_type": "markdown",
   "metadata": {},
   "source": [
    "### Feature scaling"
   ]
  },
  {
   "cell_type": "code",
   "execution_count": 199,
   "metadata": {},
   "outputs": [
    {
     "name": "stdout",
     "output_type": "stream",
     "text": [
      "Time:  0.23914074897766113\n"
     ]
    }
   ],
   "source": [
    "# trick(?): scale eeg feats first, then add emg feats and scale again...\n",
    "start = time.time()\n",
    "\n",
    "def scale(X_train, X_test):\n",
    "    scaler = StandardScaler().fit(X_train)\n",
    "\n",
    "    # scale\n",
    "    X_train_scaled = scaler.transform(X_train)\n",
    "    X_test_scaled = scaler.transform(X_test)\n",
    "    return X_train_scaled, X_test_scaled\n",
    "\n",
    "X_train_s, X_test_s = scale(X_train_, X_test_)\n",
    "\n",
    "print(\"Time: \", time.time() - start)"
   ]
  },
  {
   "cell_type": "markdown",
   "metadata": {},
   "source": [
    "### Training"
   ]
  },
  {
   "cell_type": "code",
   "execution_count": 147,
   "metadata": {
    "collapsed": true
   },
   "outputs": [
    {
     "name": "stdout",
     "output_type": "stream",
     "text": [
      "Fitting 5 folds for each of 20 candidates, totalling 100 fits\n"
     ]
    },
    {
     "name": "stderr",
     "output_type": "stream",
     "text": [
      "[Parallel(n_jobs=1)]: Using backend SequentialBackend with 1 concurrent workers.\n",
      "C:\\Users\\made_\\Anaconda3\\lib\\site-packages\\sklearn\\utils\\validation.py:724: DataConversionWarning: A column-vector y was passed when a 1d array was expected. Please change the shape of y to (n_samples, ), for example using ravel().\n",
      "  y = column_or_1d(y, warn=True)\n"
     ]
    },
    {
     "name": "stdout",
     "output_type": "stream",
     "text": [
      "[CV] C=0.01, kernel=rbf ..............................................\n",
      "[CV] .................. C=0.01, kernel=rbf, score=0.916, total= 4.4min\n",
      "[CV] C=0.01, kernel=rbf ..............................................\n"
     ]
    },
    {
     "name": "stderr",
     "output_type": "stream",
     "text": [
      "[Parallel(n_jobs=1)]: Done   1 out of   1 | elapsed:  4.4min remaining:    0.0s\n",
      "C:\\Users\\made_\\Anaconda3\\lib\\site-packages\\sklearn\\utils\\validation.py:724: DataConversionWarning: A column-vector y was passed when a 1d array was expected. Please change the shape of y to (n_samples, ), for example using ravel().\n",
      "  y = column_or_1d(y, warn=True)\n"
     ]
    },
    {
     "name": "stdout",
     "output_type": "stream",
     "text": [
      "[CV] .................. C=0.01, kernel=rbf, score=0.911, total= 4.3min\n",
      "[CV] C=0.01, kernel=rbf ..............................................\n"
     ]
    },
    {
     "name": "stderr",
     "output_type": "stream",
     "text": [
      "[Parallel(n_jobs=1)]: Done   2 out of   2 | elapsed:  8.7min remaining:    0.0s\n",
      "C:\\Users\\made_\\Anaconda3\\lib\\site-packages\\sklearn\\utils\\validation.py:724: DataConversionWarning: A column-vector y was passed when a 1d array was expected. Please change the shape of y to (n_samples, ), for example using ravel().\n",
      "  y = column_or_1d(y, warn=True)\n"
     ]
    },
    {
     "name": "stdout",
     "output_type": "stream",
     "text": [
      "[CV] .................. C=0.01, kernel=rbf, score=0.917, total= 4.3min\n",
      "[CV] C=0.01, kernel=rbf ..............................................\n"
     ]
    },
    {
     "name": "stderr",
     "output_type": "stream",
     "text": [
      "[Parallel(n_jobs=1)]: Done   3 out of   3 | elapsed: 13.0min remaining:    0.0s\n",
      "C:\\Users\\made_\\Anaconda3\\lib\\site-packages\\sklearn\\utils\\validation.py:724: DataConversionWarning: A column-vector y was passed when a 1d array was expected. Please change the shape of y to (n_samples, ), for example using ravel().\n",
      "  y = column_or_1d(y, warn=True)\n"
     ]
    },
    {
     "name": "stdout",
     "output_type": "stream",
     "text": [
      "[CV] .................. C=0.01, kernel=rbf, score=0.934, total= 4.3min\n",
      "[CV] C=0.01, kernel=rbf ..............................................\n"
     ]
    },
    {
     "name": "stderr",
     "output_type": "stream",
     "text": [
      "[Parallel(n_jobs=1)]: Done   4 out of   4 | elapsed: 17.3min remaining:    0.0s\n",
      "C:\\Users\\made_\\Anaconda3\\lib\\site-packages\\sklearn\\utils\\validation.py:724: DataConversionWarning: A column-vector y was passed when a 1d array was expected. Please change the shape of y to (n_samples, ), for example using ravel().\n",
      "  y = column_or_1d(y, warn=True)\n"
     ]
    },
    {
     "name": "stdout",
     "output_type": "stream",
     "text": [
      "[CV] .................. C=0.01, kernel=rbf, score=0.919, total= 4.3min\n",
      "[CV] C=0.01, kernel=poly .............................................\n"
     ]
    },
    {
     "name": "stderr",
     "output_type": "stream",
     "text": [
      "[Parallel(n_jobs=1)]: Done   5 out of   5 | elapsed: 21.5min remaining:    0.0s\n",
      "C:\\Users\\made_\\Anaconda3\\lib\\site-packages\\sklearn\\utils\\validation.py:724: DataConversionWarning: A column-vector y was passed when a 1d array was expected. Please change the shape of y to (n_samples, ), for example using ravel().\n",
      "  y = column_or_1d(y, warn=True)\n"
     ]
    },
    {
     "name": "stdout",
     "output_type": "stream",
     "text": [
      "[CV] ................. C=0.01, kernel=poly, score=0.879, total= 6.5min\n",
      "[CV] C=0.01, kernel=poly .............................................\n"
     ]
    },
    {
     "name": "stderr",
     "output_type": "stream",
     "text": [
      "[Parallel(n_jobs=1)]: Done   6 out of   6 | elapsed: 28.0min remaining:    0.0s\n",
      "C:\\Users\\made_\\Anaconda3\\lib\\site-packages\\sklearn\\utils\\validation.py:724: DataConversionWarning: A column-vector y was passed when a 1d array was expected. Please change the shape of y to (n_samples, ), for example using ravel().\n",
      "  y = column_or_1d(y, warn=True)\n"
     ]
    },
    {
     "name": "stdout",
     "output_type": "stream",
     "text": [
      "[CV] ................. C=0.01, kernel=poly, score=0.865, total= 6.5min\n",
      "[CV] C=0.01, kernel=poly .............................................\n"
     ]
    },
    {
     "name": "stderr",
     "output_type": "stream",
     "text": [
      "[Parallel(n_jobs=1)]: Done   7 out of   7 | elapsed: 34.5min remaining:    0.0s\n",
      "C:\\Users\\made_\\Anaconda3\\lib\\site-packages\\sklearn\\utils\\validation.py:724: DataConversionWarning: A column-vector y was passed when a 1d array was expected. Please change the shape of y to (n_samples, ), for example using ravel().\n",
      "  y = column_or_1d(y, warn=True)\n"
     ]
    },
    {
     "name": "stdout",
     "output_type": "stream",
     "text": [
      "[CV] ................. C=0.01, kernel=poly, score=0.881, total= 6.5min\n",
      "[CV] C=0.01, kernel=poly .............................................\n"
     ]
    },
    {
     "name": "stderr",
     "output_type": "stream",
     "text": [
      "[Parallel(n_jobs=1)]: Done   8 out of   8 | elapsed: 41.0min remaining:    0.0s\n",
      "C:\\Users\\made_\\Anaconda3\\lib\\site-packages\\sklearn\\utils\\validation.py:724: DataConversionWarning: A column-vector y was passed when a 1d array was expected. Please change the shape of y to (n_samples, ), for example using ravel().\n",
      "  y = column_or_1d(y, warn=True)\n"
     ]
    },
    {
     "name": "stdout",
     "output_type": "stream",
     "text": [
      "[CV] ................. C=0.01, kernel=poly, score=0.888, total= 6.5min\n",
      "[CV] C=0.01, kernel=poly .............................................\n"
     ]
    },
    {
     "name": "stderr",
     "output_type": "stream",
     "text": [
      "[Parallel(n_jobs=1)]: Done   9 out of   9 | elapsed: 47.5min remaining:    0.0s\n",
      "C:\\Users\\made_\\Anaconda3\\lib\\site-packages\\sklearn\\utils\\validation.py:724: DataConversionWarning: A column-vector y was passed when a 1d array was expected. Please change the shape of y to (n_samples, ), for example using ravel().\n",
      "  y = column_or_1d(y, warn=True)\n"
     ]
    },
    {
     "name": "stdout",
     "output_type": "stream",
     "text": [
      "[CV] ................. C=0.01, kernel=poly, score=0.885, total= 6.4min\n",
      "[CV] C=0.021544346900318832, kernel=rbf ..............................\n"
     ]
    },
    {
     "name": "stderr",
     "output_type": "stream",
     "text": [
      "[Parallel(n_jobs=1)]: Done  10 out of  10 | elapsed: 53.9min remaining:    0.0s\n",
      "C:\\Users\\made_\\Anaconda3\\lib\\site-packages\\sklearn\\utils\\validation.py:724: DataConversionWarning: A column-vector y was passed when a 1d array was expected. Please change the shape of y to (n_samples, ), for example using ravel().\n",
      "  y = column_or_1d(y, warn=True)\n"
     ]
    },
    {
     "name": "stdout",
     "output_type": "stream",
     "text": [
      "[CV] .. C=0.021544346900318832, kernel=rbf, score=0.919, total= 3.3min\n",
      "[CV] C=0.021544346900318832, kernel=rbf ..............................\n"
     ]
    },
    {
     "name": "stderr",
     "output_type": "stream",
     "text": [
      "C:\\Users\\made_\\Anaconda3\\lib\\site-packages\\sklearn\\utils\\validation.py:724: DataConversionWarning: A column-vector y was passed when a 1d array was expected. Please change the shape of y to (n_samples, ), for example using ravel().\n",
      "  y = column_or_1d(y, warn=True)\n"
     ]
    },
    {
     "name": "stdout",
     "output_type": "stream",
     "text": [
      "[CV] .. C=0.021544346900318832, kernel=rbf, score=0.918, total= 3.3min\n",
      "[CV] C=0.021544346900318832, kernel=rbf ..............................\n"
     ]
    },
    {
     "name": "stderr",
     "output_type": "stream",
     "text": [
      "C:\\Users\\made_\\Anaconda3\\lib\\site-packages\\sklearn\\utils\\validation.py:724: DataConversionWarning: A column-vector y was passed when a 1d array was expected. Please change the shape of y to (n_samples, ), for example using ravel().\n",
      "  y = column_or_1d(y, warn=True)\n"
     ]
    },
    {
     "name": "stdout",
     "output_type": "stream",
     "text": [
      "[CV] .. C=0.021544346900318832, kernel=rbf, score=0.922, total= 3.3min\n",
      "[CV] C=0.021544346900318832, kernel=rbf ..............................\n"
     ]
    },
    {
     "name": "stderr",
     "output_type": "stream",
     "text": [
      "C:\\Users\\made_\\Anaconda3\\lib\\site-packages\\sklearn\\utils\\validation.py:724: DataConversionWarning: A column-vector y was passed when a 1d array was expected. Please change the shape of y to (n_samples, ), for example using ravel().\n",
      "  y = column_or_1d(y, warn=True)\n"
     ]
    },
    {
     "name": "stdout",
     "output_type": "stream",
     "text": [
      "[CV] .. C=0.021544346900318832, kernel=rbf, score=0.940, total= 3.3min\n",
      "[CV] C=0.021544346900318832, kernel=rbf ..............................\n"
     ]
    },
    {
     "name": "stderr",
     "output_type": "stream",
     "text": [
      "C:\\Users\\made_\\Anaconda3\\lib\\site-packages\\sklearn\\utils\\validation.py:724: DataConversionWarning: A column-vector y was passed when a 1d array was expected. Please change the shape of y to (n_samples, ), for example using ravel().\n",
      "  y = column_or_1d(y, warn=True)\n"
     ]
    },
    {
     "name": "stdout",
     "output_type": "stream",
     "text": [
      "[CV] .. C=0.021544346900318832, kernel=rbf, score=0.927, total= 3.3min\n",
      "[CV] C=0.021544346900318832, kernel=poly .............................\n"
     ]
    },
    {
     "name": "stderr",
     "output_type": "stream",
     "text": [
      "C:\\Users\\made_\\Anaconda3\\lib\\site-packages\\sklearn\\utils\\validation.py:724: DataConversionWarning: A column-vector y was passed when a 1d array was expected. Please change the shape of y to (n_samples, ), for example using ravel().\n",
      "  y = column_or_1d(y, warn=True)\n"
     ]
    },
    {
     "name": "stdout",
     "output_type": "stream",
     "text": [
      "[CV] . C=0.021544346900318832, kernel=poly, score=0.896, total= 5.3min\n",
      "[CV] C=0.021544346900318832, kernel=poly .............................\n"
     ]
    },
    {
     "name": "stderr",
     "output_type": "stream",
     "text": [
      "C:\\Users\\made_\\Anaconda3\\lib\\site-packages\\sklearn\\utils\\validation.py:724: DataConversionWarning: A column-vector y was passed when a 1d array was expected. Please change the shape of y to (n_samples, ), for example using ravel().\n",
      "  y = column_or_1d(y, warn=True)\n"
     ]
    },
    {
     "name": "stdout",
     "output_type": "stream",
     "text": [
      "[CV] . C=0.021544346900318832, kernel=poly, score=0.889, total= 5.3min\n",
      "[CV] C=0.021544346900318832, kernel=poly .............................\n"
     ]
    },
    {
     "name": "stderr",
     "output_type": "stream",
     "text": [
      "C:\\Users\\made_\\Anaconda3\\lib\\site-packages\\sklearn\\utils\\validation.py:724: DataConversionWarning: A column-vector y was passed when a 1d array was expected. Please change the shape of y to (n_samples, ), for example using ravel().\n",
      "  y = column_or_1d(y, warn=True)\n"
     ]
    },
    {
     "name": "stdout",
     "output_type": "stream",
     "text": [
      "[CV] . C=0.021544346900318832, kernel=poly, score=0.903, total= 5.2min\n",
      "[CV] C=0.021544346900318832, kernel=poly .............................\n"
     ]
    },
    {
     "name": "stderr",
     "output_type": "stream",
     "text": [
      "C:\\Users\\made_\\Anaconda3\\lib\\site-packages\\sklearn\\utils\\validation.py:724: DataConversionWarning: A column-vector y was passed when a 1d array was expected. Please change the shape of y to (n_samples, ), for example using ravel().\n",
      "  y = column_or_1d(y, warn=True)\n"
     ]
    },
    {
     "name": "stdout",
     "output_type": "stream",
     "text": [
      "[CV] . C=0.021544346900318832, kernel=poly, score=0.910, total= 5.3min\n",
      "[CV] C=0.021544346900318832, kernel=poly .............................\n"
     ]
    },
    {
     "name": "stderr",
     "output_type": "stream",
     "text": [
      "C:\\Users\\made_\\Anaconda3\\lib\\site-packages\\sklearn\\utils\\validation.py:724: DataConversionWarning: A column-vector y was passed when a 1d array was expected. Please change the shape of y to (n_samples, ), for example using ravel().\n",
      "  y = column_or_1d(y, warn=True)\n"
     ]
    },
    {
     "name": "stdout",
     "output_type": "stream",
     "text": [
      "[CV] . C=0.021544346900318832, kernel=poly, score=0.904, total= 5.2min\n",
      "[CV] C=0.046415888336127774, kernel=rbf ..............................\n"
     ]
    },
    {
     "name": "stderr",
     "output_type": "stream",
     "text": [
      "C:\\Users\\made_\\Anaconda3\\lib\\site-packages\\sklearn\\utils\\validation.py:724: DataConversionWarning: A column-vector y was passed when a 1d array was expected. Please change the shape of y to (n_samples, ), for example using ravel().\n",
      "  y = column_or_1d(y, warn=True)\n"
     ]
    },
    {
     "name": "stdout",
     "output_type": "stream",
     "text": [
      "[CV] .. C=0.046415888336127774, kernel=rbf, score=0.925, total= 2.7min\n",
      "[CV] C=0.046415888336127774, kernel=rbf ..............................\n"
     ]
    },
    {
     "name": "stderr",
     "output_type": "stream",
     "text": [
      "C:\\Users\\made_\\Anaconda3\\lib\\site-packages\\sklearn\\utils\\validation.py:724: DataConversionWarning: A column-vector y was passed when a 1d array was expected. Please change the shape of y to (n_samples, ), for example using ravel().\n",
      "  y = column_or_1d(y, warn=True)\n"
     ]
    },
    {
     "name": "stdout",
     "output_type": "stream",
     "text": [
      "[CV] .. C=0.046415888336127774, kernel=rbf, score=0.922, total= 2.7min\n",
      "[CV] C=0.046415888336127774, kernel=rbf ..............................\n"
     ]
    },
    {
     "name": "stderr",
     "output_type": "stream",
     "text": [
      "C:\\Users\\made_\\Anaconda3\\lib\\site-packages\\sklearn\\utils\\validation.py:724: DataConversionWarning: A column-vector y was passed when a 1d array was expected. Please change the shape of y to (n_samples, ), for example using ravel().\n",
      "  y = column_or_1d(y, warn=True)\n"
     ]
    },
    {
     "name": "stdout",
     "output_type": "stream",
     "text": [
      "[CV] .. C=0.046415888336127774, kernel=rbf, score=0.928, total= 2.7min\n",
      "[CV] C=0.046415888336127774, kernel=rbf ..............................\n"
     ]
    },
    {
     "name": "stderr",
     "output_type": "stream",
     "text": [
      "C:\\Users\\made_\\Anaconda3\\lib\\site-packages\\sklearn\\utils\\validation.py:724: DataConversionWarning: A column-vector y was passed when a 1d array was expected. Please change the shape of y to (n_samples, ), for example using ravel().\n",
      "  y = column_or_1d(y, warn=True)\n"
     ]
    },
    {
     "name": "stdout",
     "output_type": "stream",
     "text": [
      "[CV] .. C=0.046415888336127774, kernel=rbf, score=0.940, total= 2.7min\n",
      "[CV] C=0.046415888336127774, kernel=rbf ..............................\n"
     ]
    },
    {
     "name": "stderr",
     "output_type": "stream",
     "text": [
      "C:\\Users\\made_\\Anaconda3\\lib\\site-packages\\sklearn\\utils\\validation.py:724: DataConversionWarning: A column-vector y was passed when a 1d array was expected. Please change the shape of y to (n_samples, ), for example using ravel().\n",
      "  y = column_or_1d(y, warn=True)\n"
     ]
    },
    {
     "name": "stdout",
     "output_type": "stream",
     "text": [
      "[CV] .. C=0.046415888336127774, kernel=rbf, score=0.929, total= 2.7min\n",
      "[CV] C=0.046415888336127774, kernel=poly .............................\n"
     ]
    },
    {
     "name": "stderr",
     "output_type": "stream",
     "text": [
      "C:\\Users\\made_\\Anaconda3\\lib\\site-packages\\sklearn\\utils\\validation.py:724: DataConversionWarning: A column-vector y was passed when a 1d array was expected. Please change the shape of y to (n_samples, ), for example using ravel().\n",
      "  y = column_or_1d(y, warn=True)\n"
     ]
    },
    {
     "name": "stdout",
     "output_type": "stream",
     "text": [
      "[CV] . C=0.046415888336127774, kernel=poly, score=0.910, total= 4.3min\n",
      "[CV] C=0.046415888336127774, kernel=poly .............................\n"
     ]
    },
    {
     "name": "stderr",
     "output_type": "stream",
     "text": [
      "C:\\Users\\made_\\Anaconda3\\lib\\site-packages\\sklearn\\utils\\validation.py:724: DataConversionWarning: A column-vector y was passed when a 1d array was expected. Please change the shape of y to (n_samples, ), for example using ravel().\n",
      "  y = column_or_1d(y, warn=True)\n"
     ]
    },
    {
     "name": "stdout",
     "output_type": "stream",
     "text": [
      "[CV] . C=0.046415888336127774, kernel=poly, score=0.903, total= 4.3min\n",
      "[CV] C=0.046415888336127774, kernel=poly .............................\n"
     ]
    },
    {
     "name": "stderr",
     "output_type": "stream",
     "text": [
      "C:\\Users\\made_\\Anaconda3\\lib\\site-packages\\sklearn\\utils\\validation.py:724: DataConversionWarning: A column-vector y was passed when a 1d array was expected. Please change the shape of y to (n_samples, ), for example using ravel().\n",
      "  y = column_or_1d(y, warn=True)\n"
     ]
    },
    {
     "name": "stdout",
     "output_type": "stream",
     "text": [
      "[CV] . C=0.046415888336127774, kernel=poly, score=0.915, total= 4.3min\n",
      "[CV] C=0.046415888336127774, kernel=poly .............................\n"
     ]
    },
    {
     "name": "stderr",
     "output_type": "stream",
     "text": [
      "C:\\Users\\made_\\Anaconda3\\lib\\site-packages\\sklearn\\utils\\validation.py:724: DataConversionWarning: A column-vector y was passed when a 1d array was expected. Please change the shape of y to (n_samples, ), for example using ravel().\n",
      "  y = column_or_1d(y, warn=True)\n"
     ]
    },
    {
     "name": "stdout",
     "output_type": "stream",
     "text": [
      "[CV] . C=0.046415888336127774, kernel=poly, score=0.922, total= 4.3min\n",
      "[CV] C=0.046415888336127774, kernel=poly .............................\n"
     ]
    },
    {
     "name": "stderr",
     "output_type": "stream",
     "text": [
      "C:\\Users\\made_\\Anaconda3\\lib\\site-packages\\sklearn\\utils\\validation.py:724: DataConversionWarning: A column-vector y was passed when a 1d array was expected. Please change the shape of y to (n_samples, ), for example using ravel().\n",
      "  y = column_or_1d(y, warn=True)\n"
     ]
    },
    {
     "name": "stdout",
     "output_type": "stream",
     "text": [
      "[CV] . C=0.046415888336127774, kernel=poly, score=0.915, total= 4.2min\n",
      "[CV] C=0.1, kernel=rbf ...............................................\n"
     ]
    },
    {
     "name": "stderr",
     "output_type": "stream",
     "text": [
      "C:\\Users\\made_\\Anaconda3\\lib\\site-packages\\sklearn\\utils\\validation.py:724: DataConversionWarning: A column-vector y was passed when a 1d array was expected. Please change the shape of y to (n_samples, ), for example using ravel().\n",
      "  y = column_or_1d(y, warn=True)\n"
     ]
    },
    {
     "name": "stdout",
     "output_type": "stream",
     "text": [
      "[CV] ................... C=0.1, kernel=rbf, score=0.927, total= 2.3min\n",
      "[CV] C=0.1, kernel=rbf ...............................................\n"
     ]
    },
    {
     "name": "stderr",
     "output_type": "stream",
     "text": [
      "C:\\Users\\made_\\Anaconda3\\lib\\site-packages\\sklearn\\utils\\validation.py:724: DataConversionWarning: A column-vector y was passed when a 1d array was expected. Please change the shape of y to (n_samples, ), for example using ravel().\n",
      "  y = column_or_1d(y, warn=True)\n"
     ]
    },
    {
     "name": "stdout",
     "output_type": "stream",
     "text": [
      "[CV] ................... C=0.1, kernel=rbf, score=0.925, total= 2.3min\n",
      "[CV] C=0.1, kernel=rbf ...............................................\n"
     ]
    },
    {
     "name": "stderr",
     "output_type": "stream",
     "text": [
      "C:\\Users\\made_\\Anaconda3\\lib\\site-packages\\sklearn\\utils\\validation.py:724: DataConversionWarning: A column-vector y was passed when a 1d array was expected. Please change the shape of y to (n_samples, ), for example using ravel().\n",
      "  y = column_or_1d(y, warn=True)\n"
     ]
    },
    {
     "name": "stdout",
     "output_type": "stream",
     "text": [
      "[CV] ................... C=0.1, kernel=rbf, score=0.931, total= 2.3min\n",
      "[CV] C=0.1, kernel=rbf ...............................................\n"
     ]
    },
    {
     "name": "stderr",
     "output_type": "stream",
     "text": [
      "C:\\Users\\made_\\Anaconda3\\lib\\site-packages\\sklearn\\utils\\validation.py:724: DataConversionWarning: A column-vector y was passed when a 1d array was expected. Please change the shape of y to (n_samples, ), for example using ravel().\n",
      "  y = column_or_1d(y, warn=True)\n"
     ]
    },
    {
     "name": "stdout",
     "output_type": "stream",
     "text": [
      "[CV] ................... C=0.1, kernel=rbf, score=0.943, total= 2.3min\n",
      "[CV] C=0.1, kernel=rbf ...............................................\n"
     ]
    },
    {
     "name": "stderr",
     "output_type": "stream",
     "text": [
      "C:\\Users\\made_\\Anaconda3\\lib\\site-packages\\sklearn\\utils\\validation.py:724: DataConversionWarning: A column-vector y was passed when a 1d array was expected. Please change the shape of y to (n_samples, ), for example using ravel().\n",
      "  y = column_or_1d(y, warn=True)\n"
     ]
    },
    {
     "name": "stdout",
     "output_type": "stream",
     "text": [
      "[CV] ................... C=0.1, kernel=rbf, score=0.932, total= 2.3min\n",
      "[CV] C=0.1, kernel=poly ..............................................\n"
     ]
    },
    {
     "name": "stderr",
     "output_type": "stream",
     "text": [
      "C:\\Users\\made_\\Anaconda3\\lib\\site-packages\\sklearn\\utils\\validation.py:724: DataConversionWarning: A column-vector y was passed when a 1d array was expected. Please change the shape of y to (n_samples, ), for example using ravel().\n",
      "  y = column_or_1d(y, warn=True)\n"
     ]
    },
    {
     "name": "stdout",
     "output_type": "stream",
     "text": [
      "[CV] .................. C=0.1, kernel=poly, score=0.917, total= 3.5min\n",
      "[CV] C=0.1, kernel=poly ..............................................\n"
     ]
    },
    {
     "name": "stderr",
     "output_type": "stream",
     "text": [
      "C:\\Users\\made_\\Anaconda3\\lib\\site-packages\\sklearn\\utils\\validation.py:724: DataConversionWarning: A column-vector y was passed when a 1d array was expected. Please change the shape of y to (n_samples, ), for example using ravel().\n",
      "  y = column_or_1d(y, warn=True)\n"
     ]
    },
    {
     "name": "stdout",
     "output_type": "stream",
     "text": [
      "[CV] .................. C=0.1, kernel=poly, score=0.910, total= 3.5min\n",
      "[CV] C=0.1, kernel=poly ..............................................\n"
     ]
    },
    {
     "name": "stderr",
     "output_type": "stream",
     "text": [
      "C:\\Users\\made_\\Anaconda3\\lib\\site-packages\\sklearn\\utils\\validation.py:724: DataConversionWarning: A column-vector y was passed when a 1d array was expected. Please change the shape of y to (n_samples, ), for example using ravel().\n",
      "  y = column_or_1d(y, warn=True)\n"
     ]
    },
    {
     "name": "stdout",
     "output_type": "stream",
     "text": [
      "[CV] .................. C=0.1, kernel=poly, score=0.923, total= 3.5min\n",
      "[CV] C=0.1, kernel=poly ..............................................\n"
     ]
    },
    {
     "name": "stderr",
     "output_type": "stream",
     "text": [
      "C:\\Users\\made_\\Anaconda3\\lib\\site-packages\\sklearn\\utils\\validation.py:724: DataConversionWarning: A column-vector y was passed when a 1d array was expected. Please change the shape of y to (n_samples, ), for example using ravel().\n",
      "  y = column_or_1d(y, warn=True)\n"
     ]
    },
    {
     "name": "stdout",
     "output_type": "stream",
     "text": [
      "[CV] .................. C=0.1, kernel=poly, score=0.930, total= 3.5min\n",
      "[CV] C=0.1, kernel=poly ..............................................\n"
     ]
    },
    {
     "name": "stderr",
     "output_type": "stream",
     "text": [
      "C:\\Users\\made_\\Anaconda3\\lib\\site-packages\\sklearn\\utils\\validation.py:724: DataConversionWarning: A column-vector y was passed when a 1d array was expected. Please change the shape of y to (n_samples, ), for example using ravel().\n",
      "  y = column_or_1d(y, warn=True)\n"
     ]
    },
    {
     "name": "stdout",
     "output_type": "stream",
     "text": [
      "[CV] .................. C=0.1, kernel=poly, score=0.918, total= 3.5min\n",
      "[CV] C=0.21544346900318834, kernel=rbf ...............................\n"
     ]
    },
    {
     "name": "stderr",
     "output_type": "stream",
     "text": [
      "C:\\Users\\made_\\Anaconda3\\lib\\site-packages\\sklearn\\utils\\validation.py:724: DataConversionWarning: A column-vector y was passed when a 1d array was expected. Please change the shape of y to (n_samples, ), for example using ravel().\n",
      "  y = column_or_1d(y, warn=True)\n"
     ]
    },
    {
     "name": "stdout",
     "output_type": "stream",
     "text": [
      "[CV] ... C=0.21544346900318834, kernel=rbf, score=0.928, total= 2.0min\n",
      "[CV] C=0.21544346900318834, kernel=rbf ...............................\n"
     ]
    },
    {
     "name": "stderr",
     "output_type": "stream",
     "text": [
      "C:\\Users\\made_\\Anaconda3\\lib\\site-packages\\sklearn\\utils\\validation.py:724: DataConversionWarning: A column-vector y was passed when a 1d array was expected. Please change the shape of y to (n_samples, ), for example using ravel().\n",
      "  y = column_or_1d(y, warn=True)\n"
     ]
    },
    {
     "name": "stdout",
     "output_type": "stream",
     "text": [
      "[CV] ... C=0.21544346900318834, kernel=rbf, score=0.924, total= 2.0min\n",
      "[CV] C=0.21544346900318834, kernel=rbf ...............................\n"
     ]
    },
    {
     "name": "stderr",
     "output_type": "stream",
     "text": [
      "C:\\Users\\made_\\Anaconda3\\lib\\site-packages\\sklearn\\utils\\validation.py:724: DataConversionWarning: A column-vector y was passed when a 1d array was expected. Please change the shape of y to (n_samples, ), for example using ravel().\n",
      "  y = column_or_1d(y, warn=True)\n"
     ]
    },
    {
     "name": "stdout",
     "output_type": "stream",
     "text": [
      "[CV] ... C=0.21544346900318834, kernel=rbf, score=0.933, total= 2.0min\n",
      "[CV] C=0.21544346900318834, kernel=rbf ...............................\n"
     ]
    },
    {
     "name": "stderr",
     "output_type": "stream",
     "text": [
      "C:\\Users\\made_\\Anaconda3\\lib\\site-packages\\sklearn\\utils\\validation.py:724: DataConversionWarning: A column-vector y was passed when a 1d array was expected. Please change the shape of y to (n_samples, ), for example using ravel().\n",
      "  y = column_or_1d(y, warn=True)\n"
     ]
    },
    {
     "name": "stdout",
     "output_type": "stream",
     "text": [
      "[CV] ... C=0.21544346900318834, kernel=rbf, score=0.945, total= 2.1min\n",
      "[CV] C=0.21544346900318834, kernel=rbf ...............................\n"
     ]
    },
    {
     "name": "stderr",
     "output_type": "stream",
     "text": [
      "C:\\Users\\made_\\Anaconda3\\lib\\site-packages\\sklearn\\utils\\validation.py:724: DataConversionWarning: A column-vector y was passed when a 1d array was expected. Please change the shape of y to (n_samples, ), for example using ravel().\n",
      "  y = column_or_1d(y, warn=True)\n"
     ]
    },
    {
     "name": "stdout",
     "output_type": "stream",
     "text": [
      "[CV] ... C=0.21544346900318834, kernel=rbf, score=0.933, total= 2.0min\n",
      "[CV] C=0.21544346900318834, kernel=poly ..............................\n"
     ]
    },
    {
     "name": "stderr",
     "output_type": "stream",
     "text": [
      "C:\\Users\\made_\\Anaconda3\\lib\\site-packages\\sklearn\\utils\\validation.py:724: DataConversionWarning: A column-vector y was passed when a 1d array was expected. Please change the shape of y to (n_samples, ), for example using ravel().\n",
      "  y = column_or_1d(y, warn=True)\n"
     ]
    },
    {
     "name": "stdout",
     "output_type": "stream",
     "text": [
      "[CV] .. C=0.21544346900318834, kernel=poly, score=0.923, total= 2.9min\n",
      "[CV] C=0.21544346900318834, kernel=poly ..............................\n"
     ]
    },
    {
     "name": "stderr",
     "output_type": "stream",
     "text": [
      "C:\\Users\\made_\\Anaconda3\\lib\\site-packages\\sklearn\\utils\\validation.py:724: DataConversionWarning: A column-vector y was passed when a 1d array was expected. Please change the shape of y to (n_samples, ), for example using ravel().\n",
      "  y = column_or_1d(y, warn=True)\n"
     ]
    },
    {
     "name": "stdout",
     "output_type": "stream",
     "text": [
      "[CV] .. C=0.21544346900318834, kernel=poly, score=0.914, total= 2.9min\n",
      "[CV] C=0.21544346900318834, kernel=poly ..............................\n"
     ]
    },
    {
     "name": "stderr",
     "output_type": "stream",
     "text": [
      "C:\\Users\\made_\\Anaconda3\\lib\\site-packages\\sklearn\\utils\\validation.py:724: DataConversionWarning: A column-vector y was passed when a 1d array was expected. Please change the shape of y to (n_samples, ), for example using ravel().\n",
      "  y = column_or_1d(y, warn=True)\n"
     ]
    },
    {
     "name": "stdout",
     "output_type": "stream",
     "text": [
      "[CV] .. C=0.21544346900318834, kernel=poly, score=0.926, total= 2.9min\n",
      "[CV] C=0.21544346900318834, kernel=poly ..............................\n"
     ]
    },
    {
     "name": "stderr",
     "output_type": "stream",
     "text": [
      "C:\\Users\\made_\\Anaconda3\\lib\\site-packages\\sklearn\\utils\\validation.py:724: DataConversionWarning: A column-vector y was passed when a 1d array was expected. Please change the shape of y to (n_samples, ), for example using ravel().\n",
      "  y = column_or_1d(y, warn=True)\n"
     ]
    },
    {
     "name": "stdout",
     "output_type": "stream",
     "text": [
      "[CV] .. C=0.21544346900318834, kernel=poly, score=0.936, total= 2.9min\n",
      "[CV] C=0.21544346900318834, kernel=poly ..............................\n"
     ]
    },
    {
     "name": "stderr",
     "output_type": "stream",
     "text": [
      "C:\\Users\\made_\\Anaconda3\\lib\\site-packages\\sklearn\\utils\\validation.py:724: DataConversionWarning: A column-vector y was passed when a 1d array was expected. Please change the shape of y to (n_samples, ), for example using ravel().\n",
      "  y = column_or_1d(y, warn=True)\n"
     ]
    },
    {
     "name": "stdout",
     "output_type": "stream",
     "text": [
      "[CV] .. C=0.21544346900318834, kernel=poly, score=0.927, total= 2.9min\n",
      "[CV] C=0.46415888336127775, kernel=rbf ...............................\n"
     ]
    },
    {
     "name": "stderr",
     "output_type": "stream",
     "text": [
      "C:\\Users\\made_\\Anaconda3\\lib\\site-packages\\sklearn\\utils\\validation.py:724: DataConversionWarning: A column-vector y was passed when a 1d array was expected. Please change the shape of y to (n_samples, ), for example using ravel().\n",
      "  y = column_or_1d(y, warn=True)\n"
     ]
    },
    {
     "name": "stdout",
     "output_type": "stream",
     "text": [
      "[CV] ... C=0.46415888336127775, kernel=rbf, score=0.928, total= 1.9min\n",
      "[CV] C=0.46415888336127775, kernel=rbf ...............................\n"
     ]
    },
    {
     "name": "stderr",
     "output_type": "stream",
     "text": [
      "C:\\Users\\made_\\Anaconda3\\lib\\site-packages\\sklearn\\utils\\validation.py:724: DataConversionWarning: A column-vector y was passed when a 1d array was expected. Please change the shape of y to (n_samples, ), for example using ravel().\n",
      "  y = column_or_1d(y, warn=True)\n"
     ]
    },
    {
     "name": "stdout",
     "output_type": "stream",
     "text": [
      "[CV] ... C=0.46415888336127775, kernel=rbf, score=0.922, total= 1.9min\n",
      "[CV] C=0.46415888336127775, kernel=rbf ...............................\n"
     ]
    },
    {
     "name": "stderr",
     "output_type": "stream",
     "text": [
      "C:\\Users\\made_\\Anaconda3\\lib\\site-packages\\sklearn\\utils\\validation.py:724: DataConversionWarning: A column-vector y was passed when a 1d array was expected. Please change the shape of y to (n_samples, ), for example using ravel().\n",
      "  y = column_or_1d(y, warn=True)\n"
     ]
    },
    {
     "name": "stdout",
     "output_type": "stream",
     "text": [
      "[CV] ... C=0.46415888336127775, kernel=rbf, score=0.933, total= 1.9min\n",
      "[CV] C=0.46415888336127775, kernel=rbf ...............................\n"
     ]
    },
    {
     "name": "stderr",
     "output_type": "stream",
     "text": [
      "C:\\Users\\made_\\Anaconda3\\lib\\site-packages\\sklearn\\utils\\validation.py:724: DataConversionWarning: A column-vector y was passed when a 1d array was expected. Please change the shape of y to (n_samples, ), for example using ravel().\n",
      "  y = column_or_1d(y, warn=True)\n"
     ]
    },
    {
     "name": "stdout",
     "output_type": "stream",
     "text": [
      "[CV] ... C=0.46415888336127775, kernel=rbf, score=0.944, total= 1.9min\n",
      "[CV] C=0.46415888336127775, kernel=rbf ...............................\n"
     ]
    },
    {
     "name": "stderr",
     "output_type": "stream",
     "text": [
      "C:\\Users\\made_\\Anaconda3\\lib\\site-packages\\sklearn\\utils\\validation.py:724: DataConversionWarning: A column-vector y was passed when a 1d array was expected. Please change the shape of y to (n_samples, ), for example using ravel().\n",
      "  y = column_or_1d(y, warn=True)\n"
     ]
    },
    {
     "name": "stdout",
     "output_type": "stream",
     "text": [
      "[CV] ... C=0.46415888336127775, kernel=rbf, score=0.934, total= 1.9min\n",
      "[CV] C=0.46415888336127775, kernel=poly ..............................\n"
     ]
    },
    {
     "name": "stderr",
     "output_type": "stream",
     "text": [
      "C:\\Users\\made_\\Anaconda3\\lib\\site-packages\\sklearn\\utils\\validation.py:724: DataConversionWarning: A column-vector y was passed when a 1d array was expected. Please change the shape of y to (n_samples, ), for example using ravel().\n",
      "  y = column_or_1d(y, warn=True)\n"
     ]
    },
    {
     "name": "stdout",
     "output_type": "stream",
     "text": [
      "[CV] .. C=0.46415888336127775, kernel=poly, score=0.925, total= 2.4min\n",
      "[CV] C=0.46415888336127775, kernel=poly ..............................\n"
     ]
    },
    {
     "name": "stderr",
     "output_type": "stream",
     "text": [
      "C:\\Users\\made_\\Anaconda3\\lib\\site-packages\\sklearn\\utils\\validation.py:724: DataConversionWarning: A column-vector y was passed when a 1d array was expected. Please change the shape of y to (n_samples, ), for example using ravel().\n",
      "  y = column_or_1d(y, warn=True)\n"
     ]
    },
    {
     "name": "stdout",
     "output_type": "stream",
     "text": [
      "[CV] .. C=0.46415888336127775, kernel=poly, score=0.917, total= 2.4min\n",
      "[CV] C=0.46415888336127775, kernel=poly ..............................\n"
     ]
    },
    {
     "name": "stderr",
     "output_type": "stream",
     "text": [
      "C:\\Users\\made_\\Anaconda3\\lib\\site-packages\\sklearn\\utils\\validation.py:724: DataConversionWarning: A column-vector y was passed when a 1d array was expected. Please change the shape of y to (n_samples, ), for example using ravel().\n",
      "  y = column_or_1d(y, warn=True)\n"
     ]
    },
    {
     "name": "stdout",
     "output_type": "stream",
     "text": [
      "[CV] .. C=0.46415888336127775, kernel=poly, score=0.927, total= 2.4min\n",
      "[CV] C=0.46415888336127775, kernel=poly ..............................\n"
     ]
    },
    {
     "name": "stderr",
     "output_type": "stream",
     "text": [
      "C:\\Users\\made_\\Anaconda3\\lib\\site-packages\\sklearn\\utils\\validation.py:724: DataConversionWarning: A column-vector y was passed when a 1d array was expected. Please change the shape of y to (n_samples, ), for example using ravel().\n",
      "  y = column_or_1d(y, warn=True)\n"
     ]
    },
    {
     "name": "stdout",
     "output_type": "stream",
     "text": [
      "[CV] .. C=0.46415888336127775, kernel=poly, score=0.938, total= 2.5min\n",
      "[CV] C=0.46415888336127775, kernel=poly ..............................\n"
     ]
    },
    {
     "name": "stderr",
     "output_type": "stream",
     "text": [
      "C:\\Users\\made_\\Anaconda3\\lib\\site-packages\\sklearn\\utils\\validation.py:724: DataConversionWarning: A column-vector y was passed when a 1d array was expected. Please change the shape of y to (n_samples, ), for example using ravel().\n",
      "  y = column_or_1d(y, warn=True)\n"
     ]
    },
    {
     "name": "stdout",
     "output_type": "stream",
     "text": [
      "[CV] .. C=0.46415888336127775, kernel=poly, score=0.930, total= 2.5min\n",
      "[CV] C=1.0, kernel=rbf ...............................................\n"
     ]
    },
    {
     "name": "stderr",
     "output_type": "stream",
     "text": [
      "C:\\Users\\made_\\Anaconda3\\lib\\site-packages\\sklearn\\utils\\validation.py:724: DataConversionWarning: A column-vector y was passed when a 1d array was expected. Please change the shape of y to (n_samples, ), for example using ravel().\n",
      "  y = column_or_1d(y, warn=True)\n"
     ]
    },
    {
     "name": "stdout",
     "output_type": "stream",
     "text": [
      "[CV] ................... C=1.0, kernel=rbf, score=0.928, total= 1.8min\n",
      "[CV] C=1.0, kernel=rbf ...............................................\n"
     ]
    },
    {
     "name": "stderr",
     "output_type": "stream",
     "text": [
      "C:\\Users\\made_\\Anaconda3\\lib\\site-packages\\sklearn\\utils\\validation.py:724: DataConversionWarning: A column-vector y was passed when a 1d array was expected. Please change the shape of y to (n_samples, ), for example using ravel().\n",
      "  y = column_or_1d(y, warn=True)\n"
     ]
    },
    {
     "name": "stdout",
     "output_type": "stream",
     "text": [
      "[CV] ................... C=1.0, kernel=rbf, score=0.921, total= 1.8min\n",
      "[CV] C=1.0, kernel=rbf ...............................................\n"
     ]
    },
    {
     "name": "stderr",
     "output_type": "stream",
     "text": [
      "C:\\Users\\made_\\Anaconda3\\lib\\site-packages\\sklearn\\utils\\validation.py:724: DataConversionWarning: A column-vector y was passed when a 1d array was expected. Please change the shape of y to (n_samples, ), for example using ravel().\n",
      "  y = column_or_1d(y, warn=True)\n"
     ]
    },
    {
     "name": "stdout",
     "output_type": "stream",
     "text": [
      "[CV] ................... C=1.0, kernel=rbf, score=0.934, total= 1.8min\n",
      "[CV] C=1.0, kernel=rbf ...............................................\n"
     ]
    },
    {
     "name": "stderr",
     "output_type": "stream",
     "text": [
      "C:\\Users\\made_\\Anaconda3\\lib\\site-packages\\sklearn\\utils\\validation.py:724: DataConversionWarning: A column-vector y was passed when a 1d array was expected. Please change the shape of y to (n_samples, ), for example using ravel().\n",
      "  y = column_or_1d(y, warn=True)\n"
     ]
    },
    {
     "name": "stdout",
     "output_type": "stream",
     "text": [
      "[CV] ................... C=1.0, kernel=rbf, score=0.942, total= 1.8min\n",
      "[CV] C=1.0, kernel=rbf ...............................................\n"
     ]
    },
    {
     "name": "stderr",
     "output_type": "stream",
     "text": [
      "C:\\Users\\made_\\Anaconda3\\lib\\site-packages\\sklearn\\utils\\validation.py:724: DataConversionWarning: A column-vector y was passed when a 1d array was expected. Please change the shape of y to (n_samples, ), for example using ravel().\n",
      "  y = column_or_1d(y, warn=True)\n"
     ]
    },
    {
     "name": "stdout",
     "output_type": "stream",
     "text": [
      "[CV] ................... C=1.0, kernel=rbf, score=0.937, total= 1.8min\n",
      "[CV] C=1.0, kernel=poly ..............................................\n"
     ]
    },
    {
     "name": "stderr",
     "output_type": "stream",
     "text": [
      "C:\\Users\\made_\\Anaconda3\\lib\\site-packages\\sklearn\\utils\\validation.py:724: DataConversionWarning: A column-vector y was passed when a 1d array was expected. Please change the shape of y to (n_samples, ), for example using ravel().\n",
      "  y = column_or_1d(y, warn=True)\n"
     ]
    },
    {
     "name": "stdout",
     "output_type": "stream",
     "text": [
      "[CV] .................. C=1.0, kernel=poly, score=0.924, total= 2.1min\n",
      "[CV] C=1.0, kernel=poly ..............................................\n"
     ]
    },
    {
     "name": "stderr",
     "output_type": "stream",
     "text": [
      "C:\\Users\\made_\\Anaconda3\\lib\\site-packages\\sklearn\\utils\\validation.py:724: DataConversionWarning: A column-vector y was passed when a 1d array was expected. Please change the shape of y to (n_samples, ), for example using ravel().\n",
      "  y = column_or_1d(y, warn=True)\n"
     ]
    },
    {
     "name": "stdout",
     "output_type": "stream",
     "text": [
      "[CV] .................. C=1.0, kernel=poly, score=0.914, total= 2.1min\n",
      "[CV] C=1.0, kernel=poly ..............................................\n"
     ]
    },
    {
     "name": "stderr",
     "output_type": "stream",
     "text": [
      "C:\\Users\\made_\\Anaconda3\\lib\\site-packages\\sklearn\\utils\\validation.py:724: DataConversionWarning: A column-vector y was passed when a 1d array was expected. Please change the shape of y to (n_samples, ), for example using ravel().\n",
      "  y = column_or_1d(y, warn=True)\n"
     ]
    },
    {
     "name": "stdout",
     "output_type": "stream",
     "text": [
      "[CV] .................. C=1.0, kernel=poly, score=0.929, total= 2.1min\n",
      "[CV] C=1.0, kernel=poly ..............................................\n"
     ]
    },
    {
     "name": "stderr",
     "output_type": "stream",
     "text": [
      "C:\\Users\\made_\\Anaconda3\\lib\\site-packages\\sklearn\\utils\\validation.py:724: DataConversionWarning: A column-vector y was passed when a 1d array was expected. Please change the shape of y to (n_samples, ), for example using ravel().\n",
      "  y = column_or_1d(y, warn=True)\n"
     ]
    },
    {
     "name": "stdout",
     "output_type": "stream",
     "text": [
      "[CV] .................. C=1.0, kernel=poly, score=0.943, total= 2.2min\n",
      "[CV] C=1.0, kernel=poly ..............................................\n"
     ]
    },
    {
     "name": "stderr",
     "output_type": "stream",
     "text": [
      "C:\\Users\\made_\\Anaconda3\\lib\\site-packages\\sklearn\\utils\\validation.py:724: DataConversionWarning: A column-vector y was passed when a 1d array was expected. Please change the shape of y to (n_samples, ), for example using ravel().\n",
      "  y = column_or_1d(y, warn=True)\n"
     ]
    },
    {
     "name": "stdout",
     "output_type": "stream",
     "text": [
      "[CV] .................. C=1.0, kernel=poly, score=0.931, total= 2.2min\n",
      "[CV] C=2.154434690031882, kernel=rbf .................................\n"
     ]
    },
    {
     "name": "stderr",
     "output_type": "stream",
     "text": [
      "C:\\Users\\made_\\Anaconda3\\lib\\site-packages\\sklearn\\utils\\validation.py:724: DataConversionWarning: A column-vector y was passed when a 1d array was expected. Please change the shape of y to (n_samples, ), for example using ravel().\n",
      "  y = column_or_1d(y, warn=True)\n"
     ]
    },
    {
     "name": "stdout",
     "output_type": "stream",
     "text": [
      "[CV] ..... C=2.154434690031882, kernel=rbf, score=0.927, total= 1.7min\n",
      "[CV] C=2.154434690031882, kernel=rbf .................................\n"
     ]
    },
    {
     "name": "stderr",
     "output_type": "stream",
     "text": [
      "C:\\Users\\made_\\Anaconda3\\lib\\site-packages\\sklearn\\utils\\validation.py:724: DataConversionWarning: A column-vector y was passed when a 1d array was expected. Please change the shape of y to (n_samples, ), for example using ravel().\n",
      "  y = column_or_1d(y, warn=True)\n"
     ]
    },
    {
     "name": "stdout",
     "output_type": "stream",
     "text": [
      "[CV] ..... C=2.154434690031882, kernel=rbf, score=0.924, total= 1.7min\n",
      "[CV] C=2.154434690031882, kernel=rbf .................................\n"
     ]
    },
    {
     "name": "stderr",
     "output_type": "stream",
     "text": [
      "C:\\Users\\made_\\Anaconda3\\lib\\site-packages\\sklearn\\utils\\validation.py:724: DataConversionWarning: A column-vector y was passed when a 1d array was expected. Please change the shape of y to (n_samples, ), for example using ravel().\n",
      "  y = column_or_1d(y, warn=True)\n"
     ]
    },
    {
     "name": "stdout",
     "output_type": "stream",
     "text": [
      "[CV] ..... C=2.154434690031882, kernel=rbf, score=0.933, total= 1.7min\n",
      "[CV] C=2.154434690031882, kernel=rbf .................................\n"
     ]
    },
    {
     "name": "stderr",
     "output_type": "stream",
     "text": [
      "C:\\Users\\made_\\Anaconda3\\lib\\site-packages\\sklearn\\utils\\validation.py:724: DataConversionWarning: A column-vector y was passed when a 1d array was expected. Please change the shape of y to (n_samples, ), for example using ravel().\n",
      "  y = column_or_1d(y, warn=True)\n"
     ]
    },
    {
     "name": "stdout",
     "output_type": "stream",
     "text": [
      "[CV] ..... C=2.154434690031882, kernel=rbf, score=0.943, total= 1.7min\n",
      "[CV] C=2.154434690031882, kernel=rbf .................................\n"
     ]
    },
    {
     "name": "stderr",
     "output_type": "stream",
     "text": [
      "C:\\Users\\made_\\Anaconda3\\lib\\site-packages\\sklearn\\utils\\validation.py:724: DataConversionWarning: A column-vector y was passed when a 1d array was expected. Please change the shape of y to (n_samples, ), for example using ravel().\n",
      "  y = column_or_1d(y, warn=True)\n"
     ]
    },
    {
     "name": "stdout",
     "output_type": "stream",
     "text": [
      "[CV] ..... C=2.154434690031882, kernel=rbf, score=0.937, total= 1.7min\n",
      "[CV] C=2.154434690031882, kernel=poly ................................\n"
     ]
    },
    {
     "name": "stderr",
     "output_type": "stream",
     "text": [
      "C:\\Users\\made_\\Anaconda3\\lib\\site-packages\\sklearn\\utils\\validation.py:724: DataConversionWarning: A column-vector y was passed when a 1d array was expected. Please change the shape of y to (n_samples, ), for example using ravel().\n",
      "  y = column_or_1d(y, warn=True)\n"
     ]
    },
    {
     "name": "stdout",
     "output_type": "stream",
     "text": [
      "[CV] .... C=2.154434690031882, kernel=poly, score=0.920, total= 2.0min\n",
      "[CV] C=2.154434690031882, kernel=poly ................................\n"
     ]
    },
    {
     "name": "stderr",
     "output_type": "stream",
     "text": [
      "C:\\Users\\made_\\Anaconda3\\lib\\site-packages\\sklearn\\utils\\validation.py:724: DataConversionWarning: A column-vector y was passed when a 1d array was expected. Please change the shape of y to (n_samples, ), for example using ravel().\n",
      "  y = column_or_1d(y, warn=True)\n"
     ]
    },
    {
     "name": "stdout",
     "output_type": "stream",
     "text": [
      "[CV] .... C=2.154434690031882, kernel=poly, score=0.917, total= 1.9min\n",
      "[CV] C=2.154434690031882, kernel=poly ................................\n"
     ]
    },
    {
     "name": "stderr",
     "output_type": "stream",
     "text": [
      "C:\\Users\\made_\\Anaconda3\\lib\\site-packages\\sklearn\\utils\\validation.py:724: DataConversionWarning: A column-vector y was passed when a 1d array was expected. Please change the shape of y to (n_samples, ), for example using ravel().\n",
      "  y = column_or_1d(y, warn=True)\n"
     ]
    },
    {
     "name": "stdout",
     "output_type": "stream",
     "text": [
      "[CV] .... C=2.154434690031882, kernel=poly, score=0.931, total= 2.0min\n",
      "[CV] C=2.154434690031882, kernel=poly ................................\n"
     ]
    },
    {
     "name": "stderr",
     "output_type": "stream",
     "text": [
      "C:\\Users\\made_\\Anaconda3\\lib\\site-packages\\sklearn\\utils\\validation.py:724: DataConversionWarning: A column-vector y was passed when a 1d array was expected. Please change the shape of y to (n_samples, ), for example using ravel().\n",
      "  y = column_or_1d(y, warn=True)\n"
     ]
    },
    {
     "name": "stdout",
     "output_type": "stream",
     "text": [
      "[CV] .... C=2.154434690031882, kernel=poly, score=0.944, total= 2.0min\n",
      "[CV] C=2.154434690031882, kernel=poly ................................\n"
     ]
    },
    {
     "name": "stderr",
     "output_type": "stream",
     "text": [
      "C:\\Users\\made_\\Anaconda3\\lib\\site-packages\\sklearn\\utils\\validation.py:724: DataConversionWarning: A column-vector y was passed when a 1d array was expected. Please change the shape of y to (n_samples, ), for example using ravel().\n",
      "  y = column_or_1d(y, warn=True)\n"
     ]
    },
    {
     "name": "stdout",
     "output_type": "stream",
     "text": [
      "[CV] .... C=2.154434690031882, kernel=poly, score=0.928, total= 2.0min\n",
      "[CV] C=4.6415888336127775, kernel=rbf ................................\n"
     ]
    },
    {
     "name": "stderr",
     "output_type": "stream",
     "text": [
      "C:\\Users\\made_\\Anaconda3\\lib\\site-packages\\sklearn\\utils\\validation.py:724: DataConversionWarning: A column-vector y was passed when a 1d array was expected. Please change the shape of y to (n_samples, ), for example using ravel().\n",
      "  y = column_or_1d(y, warn=True)\n"
     ]
    },
    {
     "name": "stdout",
     "output_type": "stream",
     "text": [
      "[CV] .... C=4.6415888336127775, kernel=rbf, score=0.922, total= 1.9min\n",
      "[CV] C=4.6415888336127775, kernel=rbf ................................\n"
     ]
    },
    {
     "name": "stderr",
     "output_type": "stream",
     "text": [
      "C:\\Users\\made_\\Anaconda3\\lib\\site-packages\\sklearn\\utils\\validation.py:724: DataConversionWarning: A column-vector y was passed when a 1d array was expected. Please change the shape of y to (n_samples, ), for example using ravel().\n",
      "  y = column_or_1d(y, warn=True)\n"
     ]
    },
    {
     "name": "stdout",
     "output_type": "stream",
     "text": [
      "[CV] .... C=4.6415888336127775, kernel=rbf, score=0.922, total= 1.8min\n",
      "[CV] C=4.6415888336127775, kernel=rbf ................................\n"
     ]
    },
    {
     "name": "stderr",
     "output_type": "stream",
     "text": [
      "C:\\Users\\made_\\Anaconda3\\lib\\site-packages\\sklearn\\utils\\validation.py:724: DataConversionWarning: A column-vector y was passed when a 1d array was expected. Please change the shape of y to (n_samples, ), for example using ravel().\n",
      "  y = column_or_1d(y, warn=True)\n"
     ]
    },
    {
     "name": "stdout",
     "output_type": "stream",
     "text": [
      "[CV] .... C=4.6415888336127775, kernel=rbf, score=0.929, total= 1.8min\n",
      "[CV] C=4.6415888336127775, kernel=rbf ................................\n"
     ]
    },
    {
     "name": "stderr",
     "output_type": "stream",
     "text": [
      "C:\\Users\\made_\\Anaconda3\\lib\\site-packages\\sklearn\\utils\\validation.py:724: DataConversionWarning: A column-vector y was passed when a 1d array was expected. Please change the shape of y to (n_samples, ), for example using ravel().\n",
      "  y = column_or_1d(y, warn=True)\n"
     ]
    },
    {
     "name": "stdout",
     "output_type": "stream",
     "text": [
      "[CV] .... C=4.6415888336127775, kernel=rbf, score=0.936, total= 1.9min\n",
      "[CV] C=4.6415888336127775, kernel=rbf ................................\n"
     ]
    },
    {
     "name": "stderr",
     "output_type": "stream",
     "text": [
      "C:\\Users\\made_\\Anaconda3\\lib\\site-packages\\sklearn\\utils\\validation.py:724: DataConversionWarning: A column-vector y was passed when a 1d array was expected. Please change the shape of y to (n_samples, ), for example using ravel().\n",
      "  y = column_or_1d(y, warn=True)\n"
     ]
    },
    {
     "name": "stdout",
     "output_type": "stream",
     "text": [
      "[CV] .... C=4.6415888336127775, kernel=rbf, score=0.931, total= 1.9min\n",
      "[CV] C=4.6415888336127775, kernel=poly ...............................\n"
     ]
    },
    {
     "name": "stderr",
     "output_type": "stream",
     "text": [
      "C:\\Users\\made_\\Anaconda3\\lib\\site-packages\\sklearn\\utils\\validation.py:724: DataConversionWarning: A column-vector y was passed when a 1d array was expected. Please change the shape of y to (n_samples, ), for example using ravel().\n",
      "  y = column_or_1d(y, warn=True)\n"
     ]
    },
    {
     "name": "stdout",
     "output_type": "stream",
     "text": [
      "[CV] ... C=4.6415888336127775, kernel=poly, score=0.917, total= 1.9min\n",
      "[CV] C=4.6415888336127775, kernel=poly ...............................\n"
     ]
    },
    {
     "name": "stderr",
     "output_type": "stream",
     "text": [
      "C:\\Users\\made_\\Anaconda3\\lib\\site-packages\\sklearn\\utils\\validation.py:724: DataConversionWarning: A column-vector y was passed when a 1d array was expected. Please change the shape of y to (n_samples, ), for example using ravel().\n",
      "  y = column_or_1d(y, warn=True)\n"
     ]
    },
    {
     "name": "stdout",
     "output_type": "stream",
     "text": [
      "[CV] ... C=4.6415888336127775, kernel=poly, score=0.917, total= 1.9min\n",
      "[CV] C=4.6415888336127775, kernel=poly ...............................\n"
     ]
    },
    {
     "name": "stderr",
     "output_type": "stream",
     "text": [
      "C:\\Users\\made_\\Anaconda3\\lib\\site-packages\\sklearn\\utils\\validation.py:724: DataConversionWarning: A column-vector y was passed when a 1d array was expected. Please change the shape of y to (n_samples, ), for example using ravel().\n",
      "  y = column_or_1d(y, warn=True)\n"
     ]
    },
    {
     "name": "stdout",
     "output_type": "stream",
     "text": [
      "[CV] ... C=4.6415888336127775, kernel=poly, score=0.925, total= 1.9min\n",
      "[CV] C=4.6415888336127775, kernel=poly ...............................\n"
     ]
    },
    {
     "name": "stderr",
     "output_type": "stream",
     "text": [
      "C:\\Users\\made_\\Anaconda3\\lib\\site-packages\\sklearn\\utils\\validation.py:724: DataConversionWarning: A column-vector y was passed when a 1d array was expected. Please change the shape of y to (n_samples, ), for example using ravel().\n",
      "  y = column_or_1d(y, warn=True)\n"
     ]
    },
    {
     "name": "stdout",
     "output_type": "stream",
     "text": [
      "[CV] ... C=4.6415888336127775, kernel=poly, score=0.936, total= 1.9min\n",
      "[CV] C=4.6415888336127775, kernel=poly ...............................\n"
     ]
    },
    {
     "name": "stderr",
     "output_type": "stream",
     "text": [
      "C:\\Users\\made_\\Anaconda3\\lib\\site-packages\\sklearn\\utils\\validation.py:724: DataConversionWarning: A column-vector y was passed when a 1d array was expected. Please change the shape of y to (n_samples, ), for example using ravel().\n",
      "  y = column_or_1d(y, warn=True)\n"
     ]
    },
    {
     "name": "stdout",
     "output_type": "stream",
     "text": [
      "[CV] ... C=4.6415888336127775, kernel=poly, score=0.928, total= 1.9min\n",
      "[CV] C=10.0, kernel=rbf ..............................................\n"
     ]
    },
    {
     "name": "stderr",
     "output_type": "stream",
     "text": [
      "C:\\Users\\made_\\Anaconda3\\lib\\site-packages\\sklearn\\utils\\validation.py:724: DataConversionWarning: A column-vector y was passed when a 1d array was expected. Please change the shape of y to (n_samples, ), for example using ravel().\n",
      "  y = column_or_1d(y, warn=True)\n"
     ]
    },
    {
     "name": "stdout",
     "output_type": "stream",
     "text": [
      "[CV] .................. C=10.0, kernel=rbf, score=0.917, total= 2.2min\n",
      "[CV] C=10.0, kernel=rbf ..............................................\n"
     ]
    },
    {
     "name": "stderr",
     "output_type": "stream",
     "text": [
      "C:\\Users\\made_\\Anaconda3\\lib\\site-packages\\sklearn\\utils\\validation.py:724: DataConversionWarning: A column-vector y was passed when a 1d array was expected. Please change the shape of y to (n_samples, ), for example using ravel().\n",
      "  y = column_or_1d(y, warn=True)\n"
     ]
    },
    {
     "name": "stdout",
     "output_type": "stream",
     "text": [
      "[CV] .................. C=10.0, kernel=rbf, score=0.919, total= 2.2min\n",
      "[CV] C=10.0, kernel=rbf ..............................................\n"
     ]
    },
    {
     "name": "stderr",
     "output_type": "stream",
     "text": [
      "C:\\Users\\made_\\Anaconda3\\lib\\site-packages\\sklearn\\utils\\validation.py:724: DataConversionWarning: A column-vector y was passed when a 1d array was expected. Please change the shape of y to (n_samples, ), for example using ravel().\n",
      "  y = column_or_1d(y, warn=True)\n"
     ]
    },
    {
     "name": "stdout",
     "output_type": "stream",
     "text": [
      "[CV] .................. C=10.0, kernel=rbf, score=0.922, total= 2.2min\n",
      "[CV] C=10.0, kernel=rbf ..............................................\n"
     ]
    },
    {
     "name": "stderr",
     "output_type": "stream",
     "text": [
      "C:\\Users\\made_\\Anaconda3\\lib\\site-packages\\sklearn\\utils\\validation.py:724: DataConversionWarning: A column-vector y was passed when a 1d array was expected. Please change the shape of y to (n_samples, ), for example using ravel().\n",
      "  y = column_or_1d(y, warn=True)\n"
     ]
    },
    {
     "name": "stdout",
     "output_type": "stream",
     "text": [
      "[CV] .................. C=10.0, kernel=rbf, score=0.933, total= 2.2min\n",
      "[CV] C=10.0, kernel=rbf ..............................................\n"
     ]
    },
    {
     "name": "stderr",
     "output_type": "stream",
     "text": [
      "C:\\Users\\made_\\Anaconda3\\lib\\site-packages\\sklearn\\utils\\validation.py:724: DataConversionWarning: A column-vector y was passed when a 1d array was expected. Please change the shape of y to (n_samples, ), for example using ravel().\n",
      "  y = column_or_1d(y, warn=True)\n"
     ]
    },
    {
     "name": "stdout",
     "output_type": "stream",
     "text": [
      "[CV] .................. C=10.0, kernel=rbf, score=0.925, total= 2.2min\n",
      "[CV] C=10.0, kernel=poly .............................................\n"
     ]
    },
    {
     "name": "stderr",
     "output_type": "stream",
     "text": [
      "C:\\Users\\made_\\Anaconda3\\lib\\site-packages\\sklearn\\utils\\validation.py:724: DataConversionWarning: A column-vector y was passed when a 1d array was expected. Please change the shape of y to (n_samples, ), for example using ravel().\n",
      "  y = column_or_1d(y, warn=True)\n"
     ]
    },
    {
     "name": "stdout",
     "output_type": "stream",
     "text": [
      "[CV] ................. C=10.0, kernel=poly, score=0.916, total= 2.0min\n",
      "[CV] C=10.0, kernel=poly .............................................\n"
     ]
    },
    {
     "name": "stderr",
     "output_type": "stream",
     "text": [
      "C:\\Users\\made_\\Anaconda3\\lib\\site-packages\\sklearn\\utils\\validation.py:724: DataConversionWarning: A column-vector y was passed when a 1d array was expected. Please change the shape of y to (n_samples, ), for example using ravel().\n",
      "  y = column_or_1d(y, warn=True)\n"
     ]
    },
    {
     "name": "stdout",
     "output_type": "stream",
     "text": [
      "[CV] ................. C=10.0, kernel=poly, score=0.915, total= 2.0min\n",
      "[CV] C=10.0, kernel=poly .............................................\n"
     ]
    },
    {
     "name": "stderr",
     "output_type": "stream",
     "text": [
      "C:\\Users\\made_\\Anaconda3\\lib\\site-packages\\sklearn\\utils\\validation.py:724: DataConversionWarning: A column-vector y was passed when a 1d array was expected. Please change the shape of y to (n_samples, ), for example using ravel().\n",
      "  y = column_or_1d(y, warn=True)\n"
     ]
    },
    {
     "name": "stdout",
     "output_type": "stream",
     "text": [
      "[CV] ................. C=10.0, kernel=poly, score=0.921, total= 2.0min\n",
      "[CV] C=10.0, kernel=poly .............................................\n"
     ]
    },
    {
     "name": "stderr",
     "output_type": "stream",
     "text": [
      "C:\\Users\\made_\\Anaconda3\\lib\\site-packages\\sklearn\\utils\\validation.py:724: DataConversionWarning: A column-vector y was passed when a 1d array was expected. Please change the shape of y to (n_samples, ), for example using ravel().\n",
      "  y = column_or_1d(y, warn=True)\n"
     ]
    },
    {
     "name": "stdout",
     "output_type": "stream",
     "text": [
      "[CV] ................. C=10.0, kernel=poly, score=0.931, total= 2.0min\n",
      "[CV] C=10.0, kernel=poly .............................................\n"
     ]
    },
    {
     "name": "stderr",
     "output_type": "stream",
     "text": [
      "C:\\Users\\made_\\Anaconda3\\lib\\site-packages\\sklearn\\utils\\validation.py:724: DataConversionWarning: A column-vector y was passed when a 1d array was expected. Please change the shape of y to (n_samples, ), for example using ravel().\n",
      "  y = column_or_1d(y, warn=True)\n"
     ]
    },
    {
     "name": "stdout",
     "output_type": "stream",
     "text": [
      "[CV] ................. C=10.0, kernel=poly, score=0.927, total= 1.9min\n"
     ]
    },
    {
     "name": "stderr",
     "output_type": "stream",
     "text": [
      "[Parallel(n_jobs=1)]: Done 100 out of 100 | elapsed: 284.3min finished\n",
      "C:\\Users\\made_\\Anaconda3\\lib\\site-packages\\sklearn\\utils\\validation.py:724: DataConversionWarning: A column-vector y was passed when a 1d array was expected. Please change the shape of y to (n_samples, ), for example using ravel().\n",
      "  y = column_or_1d(y, warn=True)\n"
     ]
    },
    {
     "ename": "AttributeError",
     "evalue": "'GridSearchCV' object has no attribute 'best_score'",
     "output_type": "error",
     "traceback": [
      "\u001b[1;31m---------------------------------------------------------------------------\u001b[0m",
      "\u001b[1;31mAttributeError\u001b[0m                            Traceback (most recent call last)",
      "\u001b[1;32m<ipython-input-147-93ab407f0ecf>\u001b[0m in \u001b[0;36m<module>\u001b[1;34m\u001b[0m\n\u001b[0;32m     14\u001b[0m \u001b[0mgrid\u001b[0m\u001b[1;33m.\u001b[0m\u001b[0mfit\u001b[0m\u001b[1;33m(\u001b[0m\u001b[0mX_train_s\u001b[0m\u001b[1;33m,\u001b[0m \u001b[0my_train\u001b[0m\u001b[1;33m)\u001b[0m\u001b[1;33m\u001b[0m\u001b[1;33m\u001b[0m\u001b[0m\n\u001b[0;32m     15\u001b[0m \u001b[0mbest\u001b[0m \u001b[1;33m=\u001b[0m \u001b[0mgrid\u001b[0m\u001b[1;33m.\u001b[0m\u001b[0mbest_params_\u001b[0m\u001b[1;33m\u001b[0m\u001b[1;33m\u001b[0m\u001b[0m\n\u001b[1;32m---> 16\u001b[1;33m \u001b[0mprint\u001b[0m\u001b[1;33m(\u001b[0m\u001b[1;34m\"Grid with best params: %s and score %f\"\u001b[0m \u001b[1;33m%\u001b[0m \u001b[1;33m(\u001b[0m\u001b[0mgrid\u001b[0m\u001b[1;33m.\u001b[0m\u001b[0mbest_params_\u001b[0m\u001b[1;33m,\u001b[0m \u001b[0mgrid\u001b[0m\u001b[1;33m.\u001b[0m\u001b[0mbest_score\u001b[0m\u001b[1;33m)\u001b[0m\u001b[1;33m)\u001b[0m\u001b[1;33m\u001b[0m\u001b[1;33m\u001b[0m\u001b[0m\n\u001b[0m\u001b[0;32m     17\u001b[0m \u001b[0mprint\u001b[0m\u001b[1;33m(\u001b[0m\u001b[1;34m\"Time: \"\u001b[0m\u001b[1;33m,\u001b[0m \u001b[0mtime\u001b[0m\u001b[1;33m.\u001b[0m\u001b[0mtime\u001b[0m\u001b[1;33m(\u001b[0m\u001b[1;33m)\u001b[0m \u001b[1;33m-\u001b[0m \u001b[0mstart\u001b[0m\u001b[1;33m)\u001b[0m\u001b[1;33m\u001b[0m\u001b[1;33m\u001b[0m\u001b[0m\n\u001b[0;32m     18\u001b[0m \u001b[1;33m\u001b[0m\u001b[0m\n",
      "\u001b[1;31mAttributeError\u001b[0m: 'GridSearchCV' object has no attribute 'best_score'"
     ]
    }
   ],
   "source": [
    "# Prototyping\n",
    "# GridSearch for SVC\n",
    "start = time.time()\n",
    "\n",
    "kernels = (\"rbf\", \"poly\")\n",
    "C_values = np.logspace(-2, 1, num=10)\n",
    "param_grid = {\"kernel\" : kernels,\n",
    "              \"C\"      : C_values}\n",
    "scoring_method = \"balanced_accuracy\"\n",
    "cv = StratifiedShuffleSplit(n_splits=1, test_size=0.1, random_state=0)\n",
    "\n",
    "classifier = SVC(class_weight=\"balanced\", gamma=\"auto\", decision_function_shape=\"ovo\")\n",
    "grid = GridSearchCV(estimator=classifier, param_grid=param_grid, scoring=scoring_method, cv=cv, verbose=11)\n",
    "grid.fit(X_train_s, y_train)\n",
    "best = grid.best_params_\n",
    "print(\"Grid with best params: %s and score %f\" % (grid.best_params_, grid.best_score_))\n",
    "print(\"Time: \", time.time() - start)\n"
   ]
  },
  {
   "cell_type": "code",
   "execution_count": 168,
   "metadata": {},
   "outputs": [
    {
     "data": {
      "text/plain": [
       "array([2.08929613, 2.15995371, 2.23300085, 2.30851836, 2.38658979,\n",
       "       2.4673015 , 2.55074278, 2.63700596, 2.72618645, 2.81838293])"
      ]
     },
     "execution_count": 168,
     "metadata": {},
     "output_type": "execute_result"
    }
   ],
   "source": [
    "# testing logspace for more refined C estimates\n",
    "np.logspace(0.32,0.45,num=10)"
   ]
  },
  {
   "cell_type": "code",
   "execution_count": 200,
   "metadata": {},
   "outputs": [
    {
     "name": "stderr",
     "output_type": "stream",
     "text": [
      "C:\\Users\\made_\\Anaconda3\\lib\\site-packages\\sklearn\\utils\\validation.py:724: DataConversionWarning: A column-vector y was passed when a 1d array was expected. Please change the shape of y to (n_samples, ), for example using ravel().\n",
      "  y = column_or_1d(y, warn=True)\n"
     ]
    },
    {
     "name": "stdout",
     "output_type": "stream",
     "text": [
      "Time:  169.2615566253662\n"
     ]
    }
   ],
   "source": [
    "# SVM approach\n",
    "start = time.time()\n",
    "\n",
    "classifier = SVC(C=2.154434690031882, class_weight=\"balanced\", gamma=\"auto\", decision_function_shape=\"ovo\")\n",
    "classifier.fit(X_train_s, y_train)\n",
    "y_predict = classifier.predict(X_test_s)\n",
    "\n",
    "if PROTOTYPING:\n",
    "    print(balanced_accuracy_score(y_test, y_predict))\n",
    "    \n",
    "print(\"Time: \", time.time() - start)"
   ]
  },
  {
   "cell_type": "code",
   "execution_count": null,
   "metadata": {},
   "outputs": [],
   "source": [
    "# test best params for classifier\n",
    "#classifier.fit(X_train_s, y_train)  # determine classifier based on best params\n",
    "#y_predict = classifier.predict(X_test_s)"
   ]
  },
  {
   "cell_type": "code",
   "execution_count": 173,
   "metadata": {},
   "outputs": [
    {
     "name": "stderr",
     "output_type": "stream",
     "text": [
      "C:\\Users\\made_\\Anaconda3\\lib\\site-packages\\sklearn\\ensemble\\bagging.py:623: DataConversionWarning: A column-vector y was passed when a 1d array was expected. Please change the shape of y to (n_samples, ), for example using ravel().\n",
      "  y = column_or_1d(y, warn=True)\n"
     ]
    },
    {
     "name": "stdout",
     "output_type": "stream",
     "text": [
      "Time:  1583.5741555690765\n"
     ]
    }
   ],
   "source": [
    "# bagging\n",
    "y_train = train_labels_raw\n",
    "start = time.time()\n",
    "\n",
    "classifier = BaggingClassifier(SVC(C=2.154434690031882, class_weight=\"balanced\", gamma=\"auto\", decision_function_shape=\"ovo\"),\n",
    "                               n_estimators=20, random_state=0)\n",
    "classifier.fit(X_train_s, y_train)\n",
    "y_predict = classifier.predict(X_test_s)\n",
    "\n",
    "if PROTOTYPING:\n",
    "    print(balanced_accuracy_score(y_test, y_predict))\n",
    "    \n",
    "print(\"Time: \", time.time() - start)"
   ]
  },
  {
   "cell_type": "code",
   "execution_count": 222,
   "metadata": {},
   "outputs": [],
   "source": [
    "# scale freqs from fft alone\n",
    "eeg_freqs_train_s, eeg_freqs_test_s = scale(eeg_freqs_train, eeg_freqs_test)"
   ]
  },
  {
   "cell_type": "code",
   "execution_count": null,
   "metadata": {},
   "outputs": [
    {
     "name": "stdout",
     "output_type": "stream",
     "text": [
      "Epoch 1/10000\n",
      "64800/64800 [==============================] - 25s 385us/step - loss: 0.5044 - acc: 0.8303\n",
      "Epoch 2/10000\n",
      "64800/64800 [==============================] - 2s 29us/step - loss: 0.1821 - acc: 0.9408\n",
      "Epoch 3/10000\n",
      "64800/64800 [==============================] - 2s 32us/step - loss: 0.1540 - acc: 0.9475\n",
      "Epoch 4/10000\n",
      "64800/64800 [==============================] - 2s 32us/step - loss: 0.1412 - acc: 0.9509\n",
      "Epoch 5/10000\n",
      "64800/64800 [==============================] - 2s 30us/step - loss: 0.1356 - acc: 0.9525\n",
      "Epoch 6/10000\n",
      "64800/64800 [==============================] - 2s 29us/step - loss: 0.1317 - acc: 0.9532\n",
      "Epoch 7/10000\n",
      "64800/64800 [==============================] - 2s 29us/step - loss: 0.1288 - acc: 0.9540\n",
      "Epoch 8/10000\n",
      "64800/64800 [==============================] - 2s 30us/step - loss: 0.1266 - acc: 0.9545\n",
      "Epoch 9/10000\n",
      "64800/64800 [==============================] - 2s 29us/step - loss: 0.1251 - acc: 0.9551\n",
      "Epoch 10/10000\n",
      "64800/64800 [==============================] - 2s 30us/step - loss: 0.1230 - acc: 0.9560\n",
      "Epoch 11/10000\n",
      "64800/64800 [==============================] - 2s 33us/step - loss: 0.1216 - acc: 0.9564\n",
      "Epoch 12/10000\n",
      "64800/64800 [==============================] - 2s 32us/step - loss: 0.1203 - acc: 0.9569\n",
      "Epoch 13/10000\n",
      "64800/64800 [==============================] - 2s 31us/step - loss: 0.1186 - acc: 0.9573\n",
      "Epoch 14/10000\n",
      "64800/64800 [==============================] - 2s 29us/step - loss: 0.1171 - acc: 0.9575\n",
      "Epoch 15/10000\n",
      "64800/64800 [==============================] - 2s 29us/step - loss: 0.1157 - acc: 0.9585\n",
      "Epoch 16/10000\n",
      "64800/64800 [==============================] - 2s 31us/step - loss: 0.1139 - acc: 0.9586\n",
      "Epoch 17/10000\n",
      "64800/64800 [==============================] - 2s 29us/step - loss: 0.1136 - acc: 0.9592\n",
      "Epoch 18/10000\n",
      "64800/64800 [==============================] - 2s 29us/step - loss: 0.1121 - acc: 0.9589\n",
      "Epoch 19/10000\n",
      "64800/64800 [==============================] - 2s 31us/step - loss: 0.1111 - acc: 0.9595\n",
      "Epoch 20/10000\n",
      "64800/64800 [==============================] - 2s 32us/step - loss: 0.1100 - acc: 0.9595\n",
      "Epoch 21/10000\n",
      "64800/64800 [==============================] - 2s 32us/step - loss: 0.1086 - acc: 0.9601\n",
      "Epoch 22/10000\n",
      "64800/64800 [==============================] - 2s 29us/step - loss: 0.1070 - acc: 0.9602\n",
      "Epoch 23/10000\n",
      "64800/64800 [==============================] - 2s 30us/step - loss: 0.1058 - acc: 0.9612\n",
      "Epoch 24/10000\n",
      "64800/64800 [==============================] - 2s 29us/step - loss: 0.1060 - acc: 0.9609\n",
      "Epoch 25/10000\n",
      "64800/64800 [==============================] - 2s 29us/step - loss: 0.1032 - acc: 0.9619\n",
      "Epoch 26/10000\n",
      "64800/64800 [==============================] - 2s 29us/step - loss: 0.1028 - acc: 0.9621\n",
      "Epoch 27/10000\n",
      "64800/64800 [==============================] - 2s 32us/step - loss: 0.1032 - acc: 0.9618\n",
      "Epoch 28/10000\n",
      "64800/64800 [==============================] - 2s 33us/step - loss: 0.1011 - acc: 0.9627\n",
      "Epoch 29/10000\n",
      "64800/64800 [==============================] - 2s 32us/step - loss: 0.0984 - acc: 0.9635\n",
      "Epoch 30/10000\n",
      "64800/64800 [==============================] - 2s 32us/step - loss: 0.0968 - acc: 0.9644\n",
      "Epoch 31/10000\n",
      "64800/64800 [==============================] - 2s 33us/step - loss: 0.0973 - acc: 0.9644\n",
      "Epoch 32/10000\n",
      "64800/64800 [==============================] - 2s 32us/step - loss: 0.0958 - acc: 0.9648\n",
      "Epoch 33/10000\n",
      "64800/64800 [==============================] - 2s 32us/step - loss: 0.0950 - acc: 0.9652\n",
      "Epoch 34/10000\n",
      "64800/64800 [==============================] - 2s 32us/step - loss: 0.0941 - acc: 0.9649\n",
      "Epoch 35/10000\n",
      "64800/64800 [==============================] - 2s 33us/step - loss: 0.0915 - acc: 0.9664: 1s - loss: 0.0884 - \n",
      "Epoch 36/10000\n",
      "64800/64800 [==============================] - 2s 34us/step - loss: 0.0897 - acc: 0.9667: 1s - loss: 0.0962 - \n",
      "Epoch 37/10000\n",
      "64800/64800 [==============================] - 2s 32us/step - loss: 0.0881 - acc: 0.9671\n",
      "Epoch 38/10000\n",
      "64800/64800 [==============================] - 2s 30us/step - loss: 0.0881 - acc: 0.9673\n",
      "Epoch 39/10000\n",
      "64800/64800 [==============================] - 2s 29us/step - loss: 0.0903 - acc: 0.9668\n",
      "Epoch 40/10000\n",
      "64800/64800 [==============================] - 2s 30us/step - loss: 0.0855 - acc: 0.9684\n",
      "Epoch 41/10000\n",
      "64800/64800 [==============================] - 2s 29us/step - loss: 0.0839 - acc: 0.9682\n",
      "Epoch 42/10000\n",
      "64800/64800 [==============================] - 2s 29us/step - loss: 0.0843 - acc: 0.9684\n",
      "Epoch 43/10000\n",
      "64800/64800 [==============================] - 2s 33us/step - loss: 0.0810 - acc: 0.9701\n",
      "Epoch 44/10000\n",
      "64800/64800 [==============================] - 2s 32us/step - loss: 0.0807 - acc: 0.9691\n",
      "Epoch 45/10000\n",
      "64800/64800 [==============================] - 2s 30us/step - loss: 0.0766 - acc: 0.9719\n",
      "Epoch 46/10000\n",
      "64800/64800 [==============================] - 2s 31us/step - loss: 0.0775 - acc: 0.9710\n",
      "Epoch 47/10000\n",
      "64800/64800 [==============================] - 2s 30us/step - loss: 0.0782 - acc: 0.9704\n",
      "Epoch 48/10000\n",
      "64800/64800 [==============================] - 2s 30us/step - loss: 0.0736 - acc: 0.9724\n",
      "Epoch 49/10000\n",
      "64800/64800 [==============================] - 2s 30us/step - loss: 0.0720 - acc: 0.9738\n",
      "Epoch 50/10000\n",
      "64800/64800 [==============================] - 2s 32us/step - loss: 0.0702 - acc: 0.9744\n",
      "Epoch 51/10000\n",
      "64800/64800 [==============================] - 2s 34us/step - loss: 0.0673 - acc: 0.9758\n",
      "Epoch 52/10000\n",
      "64800/64800 [==============================] - 2s 35us/step - loss: 0.0665 - acc: 0.9756\n",
      "Epoch 53/10000\n",
      "64800/64800 [==============================] - 2s 32us/step - loss: 0.0696 - acc: 0.9744\n",
      "Epoch 54/10000\n",
      "64800/64800 [==============================] - 2s 32us/step - loss: 0.0644 - acc: 0.9761\n",
      "Epoch 55/10000\n",
      "64800/64800 [==============================] - 2s 34us/step - loss: 0.0626 - acc: 0.9772\n",
      "Epoch 56/10000\n",
      "64800/64800 [==============================] - 2s 33us/step - loss: 0.0669 - acc: 0.9752\n",
      "Epoch 57/10000\n",
      "64800/64800 [==============================] - 2s 33us/step - loss: 0.0618 - acc: 0.9774\n",
      "Epoch 58/10000\n",
      "64800/64800 [==============================] - 2s 35us/step - loss: 0.0615 - acc: 0.9769\n",
      "Epoch 59/10000\n",
      "64800/64800 [==============================] - 2s 35us/step - loss: 0.0565 - acc: 0.9799\n",
      "Epoch 60/10000\n",
      "30000/64800 [============>.................] - ETA: 1s - loss: 0.0557 - acc: 0.9792"
     ]
    }
   ],
   "source": [
    "# neural network approach\n",
    "# define the model architecture\n",
    "ann = Sequential()\n",
    "ann.add(Dense(512, input_dim = np.shape(X_train_s)[1], activation = 'relu'))\n",
    "#ann.add(Dropout(0.3))\n",
    "#ann.add(BatchNormalization())\n",
    "#ann.add(Dense(512, activation = 'relu'))\n",
    "#ann.add(Dropout(0.1))\n",
    "#ann.add(BatchNormalization())\n",
    "ann.add(Dense(256, activation = 'relu'))\n",
    "#ann.add(Dropout(0.25))\n",
    "#ann.add(BatchNormalization())\n",
    "ann.add(Dense(128, activation = 'relu'))\n",
    "#ann.add(Dropout(0.2))\n",
    "#ann.add(BatchNormalization())\n",
    "# final output layer\n",
    "ann.add(Dense(4, activation = 'softmax'))\n",
    "\n",
    "opt = keras.optimizers.Adam(lr = 1e-3, decay = 1e-5)\n",
    "\n",
    "ann.compile(loss = 'sparse_categorical_crossentropy',\n",
    "            optimizer = opt,\n",
    "            metrics = ['accuracy'])\n",
    "\n",
    "# fit and predict\n",
    "ann.fit(X_train_s, y_train, epochs = 10000, batch_size = 5000, class_weight = 'balanced')\n",
    "y_predict = ann.predict_classes(X_test_s)\n"
   ]
  },
  {
   "cell_type": "markdown",
   "metadata": {},
   "source": [
    "### Write result"
   ]
  },
  {
   "cell_type": "code",
   "execution_count": 224,
   "metadata": {},
   "outputs": [
    {
     "name": "stdout",
     "output_type": "stream",
     "text": [
      "Time:  0.573230504989624\n"
     ]
    }
   ],
   "source": [
    "start = time.time()\n",
    "\n",
    "output = pd.read_csv('files/sample.csv')\n",
    "for i in range(output.shape[0]):\n",
    "    output.iat[i, 1] = y_predict[i]\n",
    "output.to_csv(\"files/NN_OvO_5_fftfeatsalone.csv\", index=False)\n",
    "        \n",
    "print(\"Time: \", time.time() - start)"
   ]
  },
  {
   "cell_type": "markdown",
   "metadata": {},
   "source": [
    "### Experimental Testing"
   ]
  },
  {
   "cell_type": "code",
   "execution_count": 117,
   "metadata": {},
   "outputs": [
    {
     "name": "stdout",
     "output_type": "stream",
     "text": [
      "64800\n"
     ]
    }
   ],
   "source": [
    "print(len(onsets_list))  # perhaps use #onsets also as a feature?\n",
    "#for item in onsets_list:\n",
    "#    print(len(item))"
   ]
  },
  {
   "cell_type": "code",
   "execution_count": 14,
   "metadata": {
    "collapsed": true
   },
   "outputs": [
    {
     "name": "stdout",
     "output_type": "stream",
     "text": [
      "Time:  685.5045821666718\n"
     ]
    },
    {
     "ename": "NameError",
     "evalue": "name 'X_train' is not defined",
     "output_type": "error",
     "traceback": [
      "\u001b[1;31m---------------------------------------------------------------------------\u001b[0m",
      "\u001b[1;31mNameError\u001b[0m                                 Traceback (most recent call last)",
      "\u001b[1;32m<ipython-input-14-29c7a7eb6635>\u001b[0m in \u001b[0;36m<module>\u001b[1;34m\u001b[0m\n\u001b[0;32m     57\u001b[0m \u001b[0mprint\u001b[0m\u001b[1;33m(\u001b[0m\u001b[1;34m\"Time: \"\u001b[0m\u001b[1;33m,\u001b[0m \u001b[0mtime\u001b[0m\u001b[1;33m.\u001b[0m\u001b[0mtime\u001b[0m\u001b[1;33m(\u001b[0m\u001b[1;33m)\u001b[0m \u001b[1;33m-\u001b[0m \u001b[0mstart\u001b[0m\u001b[1;33m)\u001b[0m\u001b[1;33m\u001b[0m\u001b[1;33m\u001b[0m\u001b[0m\n\u001b[0;32m     58\u001b[0m \u001b[1;31m# add EMG features to X_train\u001b[0m\u001b[1;33m\u001b[0m\u001b[1;33m\u001b[0m\u001b[1;33m\u001b[0m\u001b[0m\n\u001b[1;32m---> 59\u001b[1;33m X_train_ = np.column_stack((X_train,mav_list,ssi_list,vemg_list,rms_list,wl_list,iemg_list,mavs_list,mav1_list,\n\u001b[0m\u001b[0;32m     60\u001b[0m                             mav2_list,fmd_list,fmn_list))\n",
      "\u001b[1;31mNameError\u001b[0m: name 'X_train' is not defined"
     ]
    }
   ],
   "source": [
    "# features_emg_train = extract_features_emg(train_emg_raw)\n",
    "# features_emg_test  = extract_features_emg(test_emg_raw)\n",
    "# stack appropiately\n",
    "\n",
    "# try questionable approach with modifying the sampling rate to 512 such that emg.emg() works (fails for 128-200, but not for 201...)\n",
    "N = train_emg_raw.shape[0]\n",
    "onsets_list = []  # save onsets of EMG signals\n",
    "filtered_list = []\n",
    "# generate more features\n",
    "mav_list = []\n",
    "ssi_list = []\n",
    "vemg_list= []\n",
    "rms_list = []\n",
    "wl_list  = []\n",
    "iemg_list= []\n",
    "mavs_list= []\n",
    "mav1_list= []\n",
    "mav2_list= []\n",
    "tm3_list = []\n",
    "tm4_list = []\n",
    "tm5_list = []\n",
    "fmd_list = []\n",
    "fmn_list = []\n",
    "mmfd_list= []\n",
    "mmnf_list= []\n",
    "\n",
    "\n",
    "# for X_train\n",
    "start = time.time()\n",
    "for i in range(train_emg_raw.shape[0]):\n",
    "    _, filt_emg, onsets_emg = emg.emg(signal=train_emg_raw[i].T, sampling_rate=512, show=False)  # obtain only filtered signal\n",
    "    # get the PSD of the signal for the frequencies and amplitudes\n",
    "    freqs, psd = ss.welch(train_emg_raw[i], fs=512)\n",
    "    amplitudes = np.abs(fft(train_emg_raw[i]))\n",
    "    #filtered_list.append(filt_emg)\n",
    "    #onsets_list.append(onsets_emg)\n",
    "    # compute features\n",
    "    mav_list.append(MAV(filt_emg, N))\n",
    "    ssi_list.append(SSI(filt_emg, N))\n",
    "    vemg_list.append(VAREMG(filt_emg, N))\n",
    "    rms_list.append(RMS(filt_emg, N))\n",
    "    wl_list.append(WL(filt_emg, N))\n",
    "    iemg_list.append(IEMG(filt_emg))\n",
    "    mavs_list.append(MAVS(filt_emg, N))\n",
    "    mav1_list.append(MAV1(filt_emg, N))\n",
    "    mav2_list.append(MAV2(filt_emg, N))\n",
    "  #  tm3_list.append(TM3(filt_emg, N))\n",
    " #   tm4_list.append(TM4(filt_emg, N))\n",
    "#    tm5_list.append(TM5(filt_emg, N))\n",
    "    fmd_res = FMD(psd)\n",
    "    fmd_list.append(fmd_res)\n",
    "    fmn_list.append(FMN(psd, freqs, fmd_res))\n",
    "  #  mmfd_res = MMFD(amplitudes)\n",
    " #   mmfd_list.append(mmfd_res)\n",
    "#    mmnf_list.append(MMNF(train_emg_raw[i], amplitudes, mmfd_res))\n",
    "\n",
    "print(\"Time: \", time.time() - start)\n"
   ]
  },
  {
   "cell_type": "code",
   "execution_count": 38,
   "metadata": {},
   "outputs": [],
   "source": [
    "# add EMG features to X_train\n",
    "# if fourier freqs are used as feats, concatenation takes really long...\n",
    "X_train_ = np.column_stack((eeg1_freqs_train,eeg2_freqs_train,mav_list,ssi_list,vemg_list,rms_list,wl_list,iemg_list,mavs_list,mav1_list,\n",
    "                            mav2_list,fmd_list,fmn_list))"
   ]
  },
  {
   "cell_type": "code",
   "execution_count": 41,
   "metadata": {},
   "outputs": [
    {
     "name": "stdout",
     "output_type": "stream",
     "text": [
      "Time:  423.19782757759094\n"
     ]
    }
   ],
   "source": [
    "# reset all the vars\n",
    "N = test_emg_raw.shape[0]\n",
    "filtered_list = []\n",
    "onsets_list = []\n",
    "mav_list = []\n",
    "ssi_list = []\n",
    "vemg_list= []\n",
    "rms_list = []\n",
    "wl_list  = []\n",
    "iemg_list= []\n",
    "mavs_list= []\n",
    "mav1_list= []\n",
    "mav2_list= []\n",
    "tm3_list = []\n",
    "tm4_list = []\n",
    "tm5_list = []\n",
    "fmd_list = []\n",
    "fmn_list = []\n",
    "mmfd_list= []\n",
    "mmnf_list= []\n",
    "\n",
    "# for X_test\n",
    "start = time.time()\n",
    "for i in range(test_emg_raw.shape[0]):\n",
    "    _, filt_emg, _ = emg.emg(signal=test_emg_raw[i].T, sampling_rate=512, show=False)  # obtain only filtered signal\n",
    "    #filtered_list.append(filt_emg)\n",
    "    #onsets_list.append(onsets_emg)\n",
    "    # compute features\n",
    "    mav_list.append(MAV(filt_emg, N))\n",
    "    ssi_list.append(SSI(filt_emg, N))\n",
    "    vemg_list.append(VAREMG(filt_emg, N))\n",
    "    rms_list.append(RMS(filt_emg, N))\n",
    "    wl_list.append(WL(filt_emg, N))\n",
    "    iemg_list.append(IEMG(filt_emg))\n",
    "    mavs_list.append(MAVS(filt_emg, N))\n",
    "    mav1_list.append(MAV1(filt_emg, N))\n",
    "    mav2_list.append(MAV2(filt_emg, N))\n",
    "  #  tm3_list.append(TM3(filt_emg, N))\n",
    " #   tm4_list.append(TM4(filt_emg, N))\n",
    "#    tm5_list.append(TM5(filt_emg, N))\n",
    "    fmd_res = FMD(psd)\n",
    "    fmd_list.append(fmd_res)\n",
    "    fmn_list.append(FMN(psd, freqs, fmd_res))\n",
    "  #  mmfd_res = MMFD(amplitudes)\n",
    " #   mmfd_list.append(mmfd_res)\n",
    "#    mmnf_list.append(MMNF(train_emg_raw[i], amplitudes, mmfd_res))\n",
    "\n",
    "print(\"Time: \", time.time() - start)"
   ]
  },
  {
   "cell_type": "code",
   "execution_count": 42,
   "metadata": {},
   "outputs": [],
   "source": [
    "# add EMG features to X_test\n",
    "X_test_ = np.column_stack((eeg1_freqs_test,eeg2_freqs_test,mav_list,ssi_list,vemg_list,rms_list,wl_list,iemg_list,mavs_list,mav1_list,\n",
    "                           mav2_list,fmd_list,fmn_list))"
   ]
  },
  {
   "cell_type": "code",
   "execution_count": 52,
   "metadata": {},
   "outputs": [
    {
     "name": "stdout",
     "output_type": "stream",
     "text": [
      "(43200, 65)\n"
     ]
    }
   ],
   "source": [
    "#X_test = np.delete(X_test, (65,66,67), axis=1)\n",
    "#X_train= np.delete(X_train, (65,66,67), axis=1)\n",
    "#print(np.delete(X_test, (65,66,67), axis=1).shape)\n",
    "#del X_test_\n",
    "print(X_train.shape)"
   ]
  },
  {
   "cell_type": "code",
   "execution_count": 45,
   "metadata": {},
   "outputs": [
    {
     "data": {
      "text/plain": [
       "array([43200,  1035])"
      ]
     },
     "execution_count": 45,
     "metadata": {},
     "output_type": "execute_result"
    }
   ],
   "source": [
    "np.real(X_test_.shape)"
   ]
  },
  {
   "cell_type": "code",
   "execution_count": 37,
   "metadata": {},
   "outputs": [
    {
     "name": "stdout",
     "output_type": "stream",
     "text": [
      "[-0.3826554 +0.j -0.02521546+0.j -0.13306799+0.j -0.14358056+0.j\n",
      " -0.16622746+0.j]\n"
     ]
    }
   ],
   "source": [
    "xx = AR(train_emg_raw[0], order=5)\n",
    "print(xx)"
   ]
  },
  {
   "cell_type": "code",
   "execution_count": 46,
   "metadata": {},
   "outputs": [
    {
     "data": {
      "text/plain": [
       "array([1.84194114+0.j, 2.54266141+0.j, 2.69612235+0.j, 2.17536706-0.j,\n",
       "       1.34618836-0.j, 0.51530807-0.j])"
      ]
     },
     "execution_count": 46,
     "metadata": {},
     "output_type": "execute_result"
    }
   ],
   "source": [
    "emg_feats_train[11][50000]"
   ]
  },
  {
   "cell_type": "code",
   "execution_count": 101,
   "metadata": {},
   "outputs": [
    {
     "data": {
      "text/plain": [
       "(64800, 11)"
      ]
     },
     "execution_count": 101,
     "metadata": {},
     "output_type": "execute_result"
    }
   ],
   "source": [
    "np.shape(np.transpose(emg_feats_train[0:11]))"
   ]
  },
  {
   "cell_type": "code",
   "execution_count": 148,
   "metadata": {},
   "outputs": [
    {
     "data": {
      "text/plain": [
       "{'C': 2.154434690031882, 'kernel': 'rbf'}"
      ]
     },
     "execution_count": 148,
     "metadata": {},
     "output_type": "execute_result"
    }
   ],
   "source": [
    "best"
   ]
  },
  {
   "cell_type": "code",
   "execution_count": 152,
   "metadata": {},
   "outputs": [
    {
     "data": {
      "text/plain": [
       "SVC(C=2.154434690031882, cache_size=200, class_weight='balanced', coef0=0.0,\n",
       "    decision_function_shape='ovo', degree=3, gamma='auto', kernel='rbf',\n",
       "    max_iter=-1, probability=False, random_state=None, shrinking=True,\n",
       "    tol=0.001, verbose=False)"
      ]
     },
     "execution_count": 152,
     "metadata": {},
     "output_type": "execute_result"
    }
   ],
   "source": [
    "grid.best_estimator_"
   ]
  },
  {
   "cell_type": "code",
   "execution_count": 219,
   "metadata": {},
   "outputs": [
    {
     "data": {
      "text/plain": [
       "(64800, 512)"
      ]
     },
     "execution_count": 219,
     "metadata": {},
     "output_type": "execute_result"
    }
   ],
   "source": [
    "np.shape(eeg1_freqs_train)"
   ]
  },
  {
   "cell_type": "code",
   "execution_count": null,
   "metadata": {},
   "outputs": [],
   "source": []
  }
 ],
 "metadata": {
  "kernelspec": {
   "display_name": "Python 3",
   "language": "python",
   "name": "python3"
  },
  "language_info": {
   "codemirror_mode": {
    "name": "ipython",
    "version": 3
   },
   "file_extension": ".py",
   "mimetype": "text/x-python",
   "name": "python",
   "nbconvert_exporter": "python",
   "pygments_lexer": "ipython3",
   "version": "3.6.7"
  }
 },
 "nbformat": 4,
 "nbformat_minor": 2
}
