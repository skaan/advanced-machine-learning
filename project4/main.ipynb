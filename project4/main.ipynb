{
 "cells": [
  {
   "cell_type": "markdown",
   "metadata": {},
   "source": [
    "# Project 4"
   ]
  },
  {
   "cell_type": "markdown",
   "metadata": {},
   "source": [
    "### Dependencies and Constants"
   ]
  },
  {
   "cell_type": "code",
   "execution_count": 1,
   "metadata": {},
   "outputs": [],
   "source": [
    "import time\n",
    "import numpy as np\n",
    "import pandas as pd\n",
    "import matplotlib.pyplot as plt\n",
    "from sklearn.svm import SVC\n",
    "from sklearn.metrics import balanced_accuracy_score\n",
    "from sklearn.preprocessing import StandardScaler\n",
    "from sklearn.model_selection import train_test_split\n",
    "from biosppy.signals import eeg\n",
    "from biosppy.signals import emg\n",
    "\n",
    "PROTOTYPING = False"
   ]
  },
  {
   "cell_type": "markdown",
   "metadata": {},
   "source": [
    "### Read data"
   ]
  },
  {
   "cell_type": "code",
   "execution_count": 2,
   "metadata": {},
   "outputs": [
    {
     "name": "stdout",
     "output_type": "stream",
     "text": [
      "(64800, 512) (64800, 512) (64800, 512)\n",
      "(43200, 512) (43200, 512) (43200, 512)\n",
      "(64800, 1)\n",
      "Time:  24.806116104125977\n"
     ]
    }
   ],
   "source": [
    "start = time.time()\n",
    "\n",
    "# import train sets\n",
    "train_eeg1_raw = pd.read_csv('files/train_eeg1.csv').drop('Id', axis=1).values\n",
    "train_eeg2_raw = pd.read_csv('files/train_eeg2.csv').drop('Id', axis=1).values\n",
    "train_emg_raw = pd.read_csv('files/train_emg.csv').drop('Id', axis=1).values\n",
    "\n",
    "# import test sets\n",
    "test_eeg1_raw = pd.read_csv('files/test_eeg1.csv').drop('Id', axis=1).values\n",
    "test_eeg2_raw = pd.read_csv('files/test_eeg2.csv').drop('Id', axis=1).values\n",
    "test_emg_raw = pd.read_csv('files/test_emg.csv').drop('Id', axis=1).values\n",
    "\n",
    "# import labels\n",
    "train_labels_raw = pd.read_csv('files/train_labels.csv').drop('Id', axis=1).values\n",
    "\n",
    "print(train_eeg1_raw.shape, train_eeg2_raw.shape, train_emg_raw.shape)\n",
    "print(test_eeg1_raw.shape, test_eeg2_raw.shape, test_emg_raw.shape)\n",
    "print(train_labels_raw.shape)\n",
    "\n",
    "print(\"Time: \", time.time() - start)"
   ]
  },
  {
   "cell_type": "markdown",
   "metadata": {},
   "source": [
    "### Feature extraction"
   ]
  },
  {
   "cell_type": "code",
   "execution_count": 14,
   "metadata": {},
   "outputs": [
    {
     "name": "stdout",
     "output_type": "stream",
     "text": [
      "0 / 64800\n",
      "1000 / 64800\n",
      "2000 / 64800\n",
      "3000 / 64800\n",
      "4000 / 64800\n",
      "5000 / 64800\n",
      "6000 / 64800\n",
      "7000 / 64800\n",
      "8000 / 64800\n",
      "9000 / 64800\n",
      "10000 / 64800\n",
      "11000 / 64800\n",
      "12000 / 64800\n",
      "13000 / 64800\n",
      "14000 / 64800\n",
      "15000 / 64800\n",
      "16000 / 64800\n",
      "17000 / 64800\n",
      "18000 / 64800\n",
      "19000 / 64800\n",
      "20000 / 64800\n",
      "21000 / 64800\n",
      "22000 / 64800\n",
      "23000 / 64800\n",
      "24000 / 64800\n",
      "25000 / 64800\n",
      "26000 / 64800\n",
      "27000 / 64800\n",
      "28000 / 64800\n",
      "29000 / 64800\n",
      "30000 / 64800\n",
      "31000 / 64800\n",
      "32000 / 64800\n",
      "33000 / 64800\n",
      "34000 / 64800\n",
      "35000 / 64800\n",
      "36000 / 64800\n",
      "37000 / 64800\n",
      "38000 / 64800\n",
      "39000 / 64800\n",
      "40000 / 64800\n",
      "41000 / 64800\n",
      "42000 / 64800\n",
      "43000 / 64800\n",
      "44000 / 64800\n",
      "45000 / 64800\n",
      "46000 / 64800\n",
      "47000 / 64800\n",
      "48000 / 64800\n",
      "49000 / 64800\n",
      "50000 / 64800\n",
      "51000 / 64800\n",
      "52000 / 64800\n",
      "53000 / 64800\n",
      "54000 / 64800\n",
      "55000 / 64800\n",
      "56000 / 64800\n",
      "57000 / 64800\n",
      "58000 / 64800\n",
      "59000 / 64800\n",
      "60000 / 64800\n",
      "61000 / 64800\n",
      "62000 / 64800\n",
      "63000 / 64800\n",
      "64000 / 64800\n",
      "0 / 43200\n",
      "1000 / 43200\n",
      "2000 / 43200\n",
      "3000 / 43200\n",
      "4000 / 43200\n",
      "5000 / 43200\n",
      "6000 / 43200\n",
      "7000 / 43200\n",
      "8000 / 43200\n",
      "9000 / 43200\n",
      "10000 / 43200\n",
      "11000 / 43200\n",
      "12000 / 43200\n",
      "13000 / 43200\n",
      "14000 / 43200\n",
      "15000 / 43200\n",
      "16000 / 43200\n",
      "17000 / 43200\n",
      "18000 / 43200\n",
      "19000 / 43200\n",
      "20000 / 43200\n",
      "21000 / 43200\n",
      "22000 / 43200\n",
      "23000 / 43200\n",
      "24000 / 43200\n",
      "25000 / 43200\n",
      "26000 / 43200\n",
      "27000 / 43200\n",
      "28000 / 43200\n",
      "29000 / 43200\n",
      "30000 / 43200\n",
      "31000 / 43200\n",
      "32000 / 43200\n",
      "33000 / 43200\n",
      "34000 / 43200\n",
      "35000 / 43200\n",
      "36000 / 43200\n",
      "37000 / 43200\n",
      "38000 / 43200\n",
      "39000 / 43200\n",
      "40000 / 43200\n",
      "41000 / 43200\n",
      "42000 / 43200\n",
      "43000 / 43200\n",
      "X_test (43200, 55)\n",
      "X_train (64800, 55)\n",
      "Time:  3020.3552391529083\n"
     ]
    }
   ],
   "source": [
    "start = time.time()\n",
    "\n",
    "def calculate_statistics(list_values):\n",
    "    n5 = np.nanpercentile(list_values, 5)\n",
    "    n25 = np.nanpercentile(list_values, 25)\n",
    "    n75 = np.nanpercentile(list_values, 75)\n",
    "    n95 = np.nanpercentile(list_values, 95)\n",
    "    median = np.nanpercentile(list_values, 50)\n",
    "    mean = np.nanmean(list_values)\n",
    "    std = np.nanstd(list_values)\n",
    "    var = np.nanvar(list_values)\n",
    "    rms = np.nanmean(np.sqrt(list_values**2))\n",
    "    return [n5, n25, n75, n95, median, mean, std, var, rms]\n",
    " \n",
    "def calculate_crossings(list_values):\n",
    "    zero_crossing_indices = np.nonzero(np.diff(np.array(list_values) > 0))[0]\n",
    "    no_zero_crossings = len(zero_crossing_indices)\n",
    "    mean_crossing_indices = np.nonzero(np.diff(np.array(list_values) > np.nanmean(list_values)))[0]\n",
    "    no_mean_crossings = len(mean_crossing_indices)\n",
    "    return [no_zero_crossings, no_mean_crossings]\n",
    " \n",
    "def get_features(list_values):\n",
    "    crossings = calculate_crossings(list_values)\n",
    "    statistics = calculate_statistics(list_values)\n",
    "    return crossings + statistics\n",
    "\n",
    "def extract_features(eeg1, eeg2, emg):\n",
    "    features = None\n",
    "    \n",
    "    for i in range(eeg1.shape[0]):\n",
    "        if i % 1000 == 0:\n",
    "            print(i, \"/\", eeg1.shape[0])\n",
    "        row = np.array([])\n",
    "\n",
    "        signal = np.array([eeg1[i], eeg2[i]]).T\n",
    "        analysis = eeg.eeg(signal=signal, sampling_rate=128, show=False)    \n",
    "\n",
    "        # theta\n",
    "        row = np.append(row, get_features(analysis[\"theta\"]))\n",
    "        # row = np.append(row, get_features(analysis[\"theta\"][:, 1]))\n",
    "\n",
    "        # alpha low\n",
    "        row = np.append(row, get_features(analysis[\"alpha_low\"]))\n",
    "        # row = np.append(row, get_features(analysis[\"alpha_low\"][:, 1]))\n",
    "\n",
    "        # alpha low\n",
    "        row = np.append(row, get_features(analysis[\"alpha_high\"]))\n",
    "        # row = np.append(row, get_features(analysis[\"alpha_high\"][:, 1]))\n",
    "\n",
    "        # beta\n",
    "        row = np.append(row, get_features(analysis[\"beta\"]))\n",
    "        # row = np.append(row, get_features(analysis[\"beta\"][:, 1]))\n",
    "\n",
    "        # gamma\n",
    "        row = np.append(row, get_features(analysis[\"gamma\"][:, 0]))\n",
    "        # row = np.append(row, get_features(analysis[\"gamma\"]))\n",
    "\n",
    "        # format\n",
    "        row = row.reshape((1, -1))\n",
    "\n",
    "        # concatenate\n",
    "        if features is None:\n",
    "            features = row\n",
    "        else:\n",
    "            features = np.concatenate((features, row), axis=0)\n",
    "    return features\n",
    "\n",
    "X_train = extract_features(train_eeg1_raw, train_eeg2_raw, train_emg_raw)\n",
    "\n",
    "if not PROTOTYPING:\n",
    "    X_test = extract_features(test_eeg1_raw, test_eeg2_raw, test_emg_raw)\n",
    "    print(\"X_test\", X_test.shape)\n",
    "print(\"X_train\", X_train.shape)\n",
    "\n",
    "print(\"Time: \", time.time() - start)"
   ]
  },
  {
   "cell_type": "markdown",
   "metadata": {},
   "source": [
    "### Splitting"
   ]
  },
  {
   "cell_type": "code",
   "execution_count": 15,
   "metadata": {},
   "outputs": [
    {
     "name": "stdout",
     "output_type": "stream",
     "text": [
      "(64800, 55) (64800, 1)\n",
      "Time:  0.00028014183044433594\n"
     ]
    }
   ],
   "source": [
    "start = time.time()\n",
    "\n",
    "def split(X_train, y_train):\n",
    "    return train_test_split(\n",
    "            X_train, \n",
    "            y_train, \n",
    "            test_size=0.1, \n",
    "            shuffle=False, \n",
    "            random_state=0)\n",
    "\n",
    "print(X_train.shape, train_labels_raw.shape)\n",
    "if PROTOTYPING:\n",
    "    X_train, X_test, y_train, y_test = split(X_train, train_labels_raw)\n",
    "    print(X_train.shape, y_train.shape, X_test.shape, y_test.shape)\n",
    "else:\n",
    "    y_train = train_labels_raw\n",
    "    \n",
    "\n",
    "print(\"Time: \", time.time() - start)"
   ]
  },
  {
   "cell_type": "markdown",
   "metadata": {},
   "source": [
    "### Feature scaling"
   ]
  },
  {
   "cell_type": "code",
   "execution_count": 16,
   "metadata": {},
   "outputs": [
    {
     "name": "stdout",
     "output_type": "stream",
     "text": [
      "Time:  0.16492390632629395\n"
     ]
    }
   ],
   "source": [
    "start = time.time()\n",
    "\n",
    "def scale(X_train, X_test):\n",
    "    scaler = StandardScaler().fit(X_train)\n",
    "\n",
    "    # scale\n",
    "    X_train_scaled = scaler.transform(X_train)\n",
    "    X_test_scaled = scaler.transform(X_test)\n",
    "    return X_train_scaled, X_test_scaled\n",
    "\n",
    "X_train, X_test = scale(X_train, X_test)\n",
    "\n",
    "print(\"Time: \", time.time() - start)"
   ]
  },
  {
   "cell_type": "markdown",
   "metadata": {},
   "source": [
    "### Training"
   ]
  },
  {
   "cell_type": "code",
   "execution_count": 17,
   "metadata": {},
   "outputs": [
    {
     "name": "stderr",
     "output_type": "stream",
     "text": [
      "/Users/kaan/opt/anaconda3/lib/python3.7/site-packages/sklearn/utils/validation.py:724: DataConversionWarning: A column-vector y was passed when a 1d array was expected. Please change the shape of y to (n_samples, ), for example using ravel().\n",
      "  y = column_or_1d(y, warn=True)\n"
     ]
    },
    {
     "name": "stdout",
     "output_type": "stream",
     "text": [
      "Time:  192.4114339351654\n"
     ]
    }
   ],
   "source": [
    "start = time.time()\n",
    "\n",
    "classifier = SVC(class_weight=\"balanced\", gamma=\"auto\", decision_function_shape=\"ovo\")\n",
    "classifier.fit(X_train, y_train)\n",
    "y_predict = classifier.predict(X_test)\n",
    "\n",
    "if PROTOTYPING:\n",
    "    print(balanced_accuracy_score(y_test, y_predict))\n",
    "    \n",
    "print(\"Time: \", time.time() - start)"
   ]
  },
  {
   "cell_type": "markdown",
   "metadata": {},
   "source": [
    "### Write result"
   ]
  },
  {
   "cell_type": "code",
   "execution_count": 13,
   "metadata": {},
   "outputs": [
    {
     "name": "stdout",
     "output_type": "stream",
     "text": [
      "Time:  0.4031839370727539\n"
     ]
    }
   ],
   "source": [
    "start = time.time()\n",
    "\n",
    "output = pd.read_csv('files/sample.csv')\n",
    "for i in range(output.shape[0]):\n",
    "    output.iat[i, 1] = y_predict[i]\n",
    "output.to_csv(\"files/SVC_OvO_eeg_only.csv\", index=False)\n",
    "        \n",
    "print(\"Time: \", time.time() - start)"
   ]
  },
  {
   "cell_type": "code",
   "execution_count": null,
   "metadata": {},
   "outputs": [],
   "source": []
  }
 ],
 "metadata": {
  "kernelspec": {
   "display_name": "Python 3",
   "language": "python",
   "name": "python3"
  },
  "language_info": {
   "codemirror_mode": {
    "name": "ipython",
    "version": 3
   },
   "file_extension": ".py",
   "mimetype": "text/x-python",
   "name": "python",
   "nbconvert_exporter": "python",
   "pygments_lexer": "ipython3",
   "version": "3.7.4"
  }
 },
 "nbformat": 4,
 "nbformat_minor": 2
}
